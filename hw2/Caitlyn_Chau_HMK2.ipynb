{
 "cells": [
  {
   "cell_type": "markdown",
   "metadata": {},
   "source": [
    "# Homework Assignment 2\n",
    "\n",
    "CS 156\n",
    "\n",
    "Caitlyn Chau\n",
    "## Part A: Data Import & Data Preprocessing"
   ]
  },
  {
   "cell_type": "code",
   "execution_count": 1,
   "metadata": {},
   "outputs": [],
   "source": [
    "import numpy as np\n",
    "import matplotlib.pyplot as plt\n",
    "import pandas as pd"
   ]
  },
  {
   "cell_type": "markdown",
   "metadata": {},
   "source": [
    "#### A. Read csv file"
   ]
  },
  {
   "cell_type": "code",
   "execution_count": 2,
   "metadata": {},
   "outputs": [],
   "source": [
    "dataset = pd.read_csv('Housing-Data-one-zip-3.csv')\n",
    "x = dataset.iloc[:, :-1]\n",
    "y = dataset.iloc[:,15:16]"
   ]
  },
  {
   "cell_type": "markdown",
   "metadata": {},
   "source": [
    "#### B. Convert categorical data"
   ]
  },
  {
   "cell_type": "code",
   "execution_count": 3,
   "metadata": {},
   "outputs": [],
   "source": [
    "# col 0 - waterfront (y/n) \n",
    "# col 1 - renovated (y/n) \n",
    "# col 2 - view (index from 0-4) \n",
    "# col 3 - condition (index from 1-5) \n",
    "# col 4 - condition (index from 1-5)\n",
    "\n",
    "from sklearn.compose import ColumnTransformer\n",
    "from sklearn.preprocessing import OneHotEncoder\n",
    "\n",
    "ct = ColumnTransformer(transformers=\n",
    "                       [('encoder', OneHotEncoder(), [0,1,2,3,4])\n",
    "                       ], remainder='passthrough')\n",
    "\n",
    "x = np.array(ct.fit_transform(x))"
   ]
  },
  {
   "cell_type": "markdown",
   "metadata": {},
   "source": [
    "#### C. Transform some data."
   ]
  },
  {
   "cell_type": "code",
   "execution_count": 4,
   "metadata": {},
   "outputs": [
    {
     "name": "stdout",
     "output_type": "stream",
     "text": [
      "[ 59.  42.  52.  66.  65.  59.  41.  51.  64.  49.  43.  58. 111.  52.\n",
      "  65. 107.  53.  45.  77.  53.  53.  53.  68.  68.  42.  59.  32.  53.\n",
      "  48. 112.  74. 107.  51.  62.  48.  60.  55.  53. 108.  62.  58.  58.\n",
      "  54.  50.  67.  51.  60.  56.  46.  45.  61.  44.  73.  57. 107.  48.\n",
      "  58.  57.  72.  66.  78.  84.  77.  31.  53.  53.  34.  47.  47.  27.\n",
      "  45.  52.  50.  53.  45.  54.  47.  51.  56.  49.  40.  58.  39.  66.\n",
      "  53.  70.  66.  32.  51.  57.  56. 117.  74.  52.  37.  48.  58.  50.\n",
      "  53.  37.  40.  51.  42.  33.  30.  81.  54.  39.  30.  58.  31.  39.\n",
      "  56.  67.  35.  44.  41.  76.  53.  31.  55.  35.  74.  32.  51.  84.\n",
      "  57.  57.  36.  58.  40.  70.  54.  37.  42.  82.  52. 112.  58.  60.\n",
      "  52.  55.  42.  67.  67.  58.  58.  36.  25.  60.  31.  74.  36.  46.\n",
      "  35.  35.  26.  57.  53.  17.  53.  46.  28.  52.  58.  17.  35.  53.\n",
      "  61.  26.  73.  34.  22.  10.  32. 101.   6.  41.  61.  52.  43.  22.\n",
      "  59.  42.  55.  32.  21.  21.  41.  42.  29.  21.  58.  56.  23.  55.\n",
      "  44.  46.  36.  41.  34.  33.  53.  32.  44.  58.  61.  37.  16.  24.\n",
      "  11.  20.  46.  43.  24.  30.  35.  27.  17.  20.  27.  20.  14.  11.\n",
      "  20.  33.  31.  21.   8.  14.  34.  32.  15.  15.  33.  16.  26.  12.\n",
      "  12.  30.   8.   8.  11.  39.   6.   7.  41.  30.  13.  42.  32.   9.\n",
      "  52.  15.  18.  13.   6.  27.  44.  36.  41.  16.  32.  13.  28.  32.\n",
      "  27.  14.  14.  33.  11.  22.   8.  15.  41.   6.   8.  38.  22.  10.\n",
      "   7.  55.  19.  30.  19.  16.  14.   7.  15.  13.  19.  13.  13.  13.\n",
      "   7.  14.  19.   9.   8.  17.  11.  17.   6.   7.  19.  18.  14.  15.\n",
      "  15.  19.  41.  53.  13.   7.  17.  20.   6.  19.  14.  31.   6.   6.\n",
      "  19.  19.  23.  19.  14.  14.  15.  65.  12.  41. 100.  17.  19.  62.\n",
      "   6.  42.  27.  27.  27.  53.   6.   6.   6.  21.  18.  51.  28.   6.\n",
      "   6.  14.  72.   7.  19.  30.  34.   7.   6.   6.  15.]\n"
     ]
    }
   ],
   "source": [
    "# Age of house = 2020 - Year built\n",
    "x[:, -3] = 2020 - x[:, -3]\n",
    "print(x[:, -3])"
   ]
  },
  {
   "cell_type": "markdown",
   "metadata": {},
   "source": [
    "#### D. Divide the data set into Training set and Test set"
   ]
  },
  {
   "cell_type": "code",
   "execution_count": 5,
   "metadata": {},
   "outputs": [],
   "source": [
    "from sklearn.model_selection import train_test_split\n",
    "\n",
    "# Only train on last 10 features (exclude categorical variables)\n",
    "limitedFeatures = x[:, -10:]\n",
    "\n",
    "# Train and test set containing only sqft_living (x) and price variables (y)\n",
    "x_train_simple, x_test_simple, y_train_simple, y_test_simple = train_test_split(x[:,-8:-7], y, test_size = 1/3, random_state = 0)\n",
    "\n",
    "# Train and test set containing all variables\n",
    "x_train_multiple, x_test_multiple, y_train_multiple, y_test_multiple = train_test_split(limitedFeatures, y, test_size = 1/20, random_state = 0)"
   ]
  },
  {
   "cell_type": "markdown",
   "metadata": {},
   "source": [
    "#### Feature scale all variables so they are on a comparable scale\n",
    "\n",
    "Note: dummy variables have already been excluded"
   ]
  },
  {
   "cell_type": "code",
   "execution_count": 6,
   "metadata": {},
   "outputs": [
    {
     "name": "stdout",
     "output_type": "stream",
     "text": [
      "Before scaling:  [1.000e+00 2.000e+00 1.150e+03 9.812e+03 1.000e+00 1.150e+03 0.000e+00\n",
      " 5.800e+01 1.200e+03 9.812e+03]\n",
      "After scaling:  [-3.34744278 -0.02629631 -1.14896514 -0.23935236 -0.87091649 -0.90168936\n",
      " -0.49514548  0.81869566 -1.28097693 -0.17813406]\n"
     ]
    }
   ],
   "source": [
    "from sklearn.preprocessing import StandardScaler\n",
    "sc = StandardScaler()\n",
    "\n",
    "print(\"Before scaling: \", x_train_multiple[0, :])\n",
    "\n",
    "x_train_multiple = sc.fit_transform(x_train_multiple)\n",
    "x_test_multiple = sc.transform(x_test_multiple)\n",
    "\n",
    "print(\"After scaling: \", x_train_multiple[0, :])"
   ]
  },
  {
   "cell_type": "markdown",
   "metadata": {},
   "source": [
    "## Part B: Simple Linear Regression\n",
    "\n",
    "Predict house price using Sqft_living as independent variable."
   ]
  },
  {
   "cell_type": "code",
   "execution_count": 7,
   "metadata": {},
   "outputs": [],
   "source": [
    "from sklearn.linear_model import LinearRegression\n",
    "simple_regressor = LinearRegression()\n",
    "simple_regressor.fit(x_train_simple, y_train_simple)\n",
    "LinearRegression(copy_X=True, fit_intercept=True, n_jobs=None, normalize=False)\n",
    "\n",
    "y_pred_simple = simple_regressor.predict(x_test_simple)"
   ]
  },
  {
   "cell_type": "markdown",
   "metadata": {},
   "source": [
    "#### A. Print r-square value"
   ]
  },
  {
   "cell_type": "code",
   "execution_count": 8,
   "metadata": {},
   "outputs": [
    {
     "name": "stdout",
     "output_type": "stream",
     "text": [
      "0.659298081189599\n"
     ]
    }
   ],
   "source": [
    "print(simple_regressor.score(x_train_simple, y_train_simple))"
   ]
  },
  {
   "cell_type": "markdown",
   "metadata": {},
   "source": [
    "#### Plot simple linear regression for Training Dataset"
   ]
  },
  {
   "cell_type": "code",
   "execution_count": 9,
   "metadata": {},
   "outputs": [
    {
     "data": {
      "image/png": "[encoded data removed]",
      "text/plain": [
       "<Figure size 432x288 with 1 Axes>"
      ]
     },
     "metadata": {
      "needs_background": "light"
     },
     "output_type": "display_data"
    }
   ],
   "source": [
    "plt.scatter(x_train_simple, y_train_simple, color='red')\n",
    "plt.plot(x_train_simple, simple_regressor.predict(x_train_simple), color='blue')\n",
    "plt.title('Square footage of living space vs. Price (Training set)')\n",
    "plt.xlabel('Square footage of living space')\n",
    "plt.ylabel('House price')\n",
    "plt.show()"
   ]
  },
  {
   "cell_type": "markdown",
   "metadata": {},
   "source": [
    "#### Plot simple linear regression line for Test Dataset"
   ]
  },
  {
   "cell_type": "code",
   "execution_count": 10,
   "metadata": {},
   "outputs": [
    {
     "data": {
      "image/png": "[encoded data removed]",
      "text/plain": [
       "<Figure size 432x288 with 1 Axes>"
      ]
     },
     "metadata": {
      "needs_background": "light"
     },
     "output_type": "display_data"
    }
   ],
   "source": [
    "plt.scatter(x_test_simple, y_test_simple, color='red')\n",
    "plt.plot(x_train_simple, simple_regressor.predict(x_train_simple), color='blue')\n",
    "plt.title('Square footage of living space vs. Price (Test set)')\n",
    "plt.xlabel('Square footage of living space')\n",
    "plt.ylabel('House price')\n",
    "plt.show()"
   ]
  },
  {
   "cell_type": "markdown",
   "metadata": {},
   "source": [
    "#### D. Predict house price for:\n",
    "* sqft_living = 4500\n",
    "* sqft_living = 2870\n",
    "* sqft_living = 750"
   ]
  },
  {
   "cell_type": "code",
   "execution_count": 11,
   "metadata": {},
   "outputs": [
    {
     "name": "stdout",
     "output_type": "stream",
     "text": [
      "[[604041.28593442]]\n",
      "[[402782.36474183]]\n",
      "[[141022.29546066]]\n"
     ]
    }
   ],
   "source": [
    "print(simple_regressor.predict([[4500]]))\n",
    "print(simple_regressor.predict([[2870]]))\n",
    "print(simple_regressor.predict([[750]]))"
   ]
  },
  {
   "cell_type": "markdown",
   "metadata": {},
   "source": [
    "## Part C: Multiple Linear Regression\n",
    "Use all variables to predict the house price."
   ]
  },
  {
   "cell_type": "code",
   "execution_count": 12,
   "metadata": {
    "scrolled": true
   },
   "outputs": [
    {
     "data": {
      "text/plain": [
       "LinearRegression()"
      ]
     },
     "execution_count": 12,
     "metadata": {},
     "output_type": "execute_result"
    }
   ],
   "source": [
    "multiple_regressor = LinearRegression()\n",
    "multiple_regressor.fit(x_train_multiple, y_train_multiple)\n",
    "LinearRegression(copy_X=True, fit_intercept=True, n_jobs=None, normalize=False)"
   ]
  },
  {
   "cell_type": "code",
   "execution_count": 13,
   "metadata": {
    "scrolled": true
   },
   "outputs": [
    {
     "name": "stdout",
     "output_type": "stream",
     "text": [
      "Coefficients:  [[ -2008.19178391   2224.15104329  32702.33335995  15532.02773631\n",
      "     843.94621487  25852.51876039  13768.2092072  -13000.12418346\n",
      "   14550.28315343  18245.54397169]]\n",
      "Intercept:  [281041.01754386]\n"
     ]
    }
   ],
   "source": [
    "y_pred_multiple = multiple_regressor.predict(x_test_multiple)\n",
    "\n",
    "print(\"Coefficients: \", multiple_regressor.coef_)\n",
    "print(\"Intercept: \", multiple_regressor.intercept_)"
   ]
  },
  {
   "cell_type": "markdown",
   "metadata": {},
   "source": [
    "#### A. Print r-square value"
   ]
  },
  {
   "cell_type": "code",
   "execution_count": 14,
   "metadata": {},
   "outputs": [
    {
     "name": "stdout",
     "output_type": "stream",
     "text": [
      "0.7593185216904335\n"
     ]
    }
   ],
   "source": [
    "print(multiple_regressor.score(x_train_multiple, y_train_multiple))"
   ]
  },
  {
   "cell_type": "markdown",
   "metadata": {},
   "source": [
    "#### B. Predict house prices for following cases where"
   ]
  },
  {
   "cell_type": "code",
   "execution_count": 15,
   "metadata": {},
   "outputs": [
    {
     "name": "stdout",
     "output_type": "stream",
     "text": [
      "[[8.53027581e+08]]\n",
      "[[3.02026104e+08]]\n",
      "[[3.82246251e+08]]\n",
      "[[2.09159469e+09]]\n",
      "[[2.11601206e+09]]\n",
      "[[2.02056765e+09]]\n",
      "[[1.89643137e+09]]\n"
     ]
    }
   ],
   "source": [
    "# [Bedrooms, Bathrooms, Sqft_living, Sqft_lot, Floors, Sqft_above, Sqft_basement, Age, Sqft_living15, Sqft_lot15]\n",
    "\n",
    "# [3, 0.75, 2510, 20000, 2.0, 2510, 0, 59, 2130, 20000]\n",
    "print(multiple_regressor.predict([[3, 0.75, 2510, 20000, 2.0, 2510, 0, 59, 2130, 20000]]))\n",
    "\n",
    "# [4, 2.25, 1500,   5393, 2.0, 1500, 0, 21, 1500,    5952]\n",
    "print(multiple_regressor.predict([[4, 2.25, 1500,   5393, 2.0, 1500, 0, 21, 1500,    5952]]))\n",
    "\n",
    "# [4, 2.25, 2870,   5393, 2.0, 2870, 0, 21, 1500, 5952]\n",
    "print(multiple_regressor.predict([[4, 2.25, 2870,   5393, 2.0, 2870, 0, 21, 1500, 5952]]))\n",
    "\n",
    "# [4, 3.50, 4083, 68377, 2.0, 4083, 0, 15, 2430, 41382]\n",
    "print(multiple_regressor.predict([[4, 3.50, 4083, 68377, 2.0, 4083, 0, 15, 2430, 41382]]))\n",
    "\n",
    "# [4, 3.50, 4500, 68377, 2.0, 4500, 0, 15, 2430, 41382]\n",
    "print(multiple_regressor.predict([[4, 3.50, 4500, 68377, 2.0, 4500, 0, 15, 2430, 41382]]))\n",
    "\n",
    "# [4, 3.50, 2870, 68377, 2.0, 2870, 0, 15, 2430, 41382]\n",
    "print(multiple_regressor.predict([[4, 3.50, 2870, 68377, 2.0, 2870, 0, 15, 2430, 41382]]))\n",
    "\n",
    "# [4, 3.50,   750, 68377, 2.0,   750, 0, 15, 2430, 41382]\n",
    "print(multiple_regressor.predict([[4, 3.50,   750, 68377, 2.0,   750, 0, 15, 2430, 41382]]))"
   ]
  },
  {
   "cell_type": "markdown",
   "metadata": {},
   "source": [
    "## Part D: Decision Tree Regression"
   ]
  },
  {
   "cell_type": "code",
   "execution_count": 16,
   "metadata": {},
   "outputs": [
    {
     "data": {
      "text/plain": [
       "DecisionTreeRegressor(random_state=0)"
      ]
     },
     "execution_count": 16,
     "metadata": {},
     "output_type": "execute_result"
    }
   ],
   "source": [
    "from sklearn.tree import DecisionTreeRegressor\n",
    "tree_regressor = DecisionTreeRegressor(random_state = 0)\n",
    "tree_regressor.fit(limitedFeatures, y)\n",
    "\n",
    "DecisionTreeRegressor(ccp_alpha=0.0, criterion='mse', max_depth=None,\n",
    "                     max_features=None, max_leaf_nodes=None,\n",
    "                     min_impurity_decrease=0.0, min_impurity_split=None,\n",
    "                     min_samples_leaf=1, min_samples_split=2,\n",
    "                     min_weight_fraction_leaf=0.0, presort='deprecated',\n",
    "                     random_state=0, splitter='best')"
   ]
  },
  {
   "cell_type": "markdown",
   "metadata": {},
   "source": [
    "#### A. Print r-square value"
   ]
  },
  {
   "cell_type": "code",
   "execution_count": 17,
   "metadata": {},
   "outputs": [
    {
     "name": "stdout",
     "output_type": "stream",
     "text": [
      "0.9950486495433811\n"
     ]
    }
   ],
   "source": [
    "print(tree_regressor.score(limitedFeatures, y))"
   ]
  },
  {
   "cell_type": "markdown",
   "metadata": {},
   "source": [
    "#### B. Predict house prices"
   ]
  },
  {
   "cell_type": "code",
   "execution_count": 18,
   "metadata": {},
   "outputs": [
    {
     "name": "stdout",
     "output_type": "stream",
     "text": [
      "[363000.]\n",
      "[215000.]\n",
      "[250000.]\n",
      "[637000.]\n",
      "[637000.]\n",
      "[535000.]\n",
      "[194820.]\n"
     ]
    }
   ],
   "source": [
    "# [Bedrooms, Bathrooms, Sqft_living, Sqft_lot, Floors, Sqft_above, Sqft_basement, Age, Sqft_living15, Sqft_lot15]\n",
    "\n",
    "# [3, 0.75, 2510, 20000, 2.0, 2510, 0, 59, 2130, 20000]\n",
    "print(tree_regressor.predict([[3, 0.75, 2510, 20000, 2.0, 2510, 0, 59, 2130, 20000]]))\n",
    "\n",
    "# [4, 2.25, 1500,   5393, 2.0, 1500, 0, 21, 1500,    5952]\n",
    "print(tree_regressor.predict([[4, 2.25, 1500,   5393, 2.0, 1500, 0, 21, 1500,    5952]]))\n",
    "\n",
    "# [4, 2.25, 2870,   5393, 2.0, 2870, 0, 21, 1500, 5952]\n",
    "print(tree_regressor.predict([[4, 2.25, 2870,   5393, 2.0, 2870, 0, 21, 1500, 5952]]))\n",
    "\n",
    "# [4, 3.50, 4083, 68377, 2.0, 4083, 0, 15, 2430, 41382]\n",
    "print(tree_regressor.predict([[4, 3.50, 4083, 68377, 2.0, 4083, 0, 15, 2430, 41382]]))\n",
    "\n",
    "# [4, 3.50, 4500, 68377, 2.0, 4500, 0, 15, 2430, 41382]\n",
    "print(tree_regressor.predict([[4, 3.50, 4500, 68377, 2.0, 4500, 0, 15, 2430, 41382]]))\n",
    "\n",
    "# [4, 3.50, 2870, 68377, 2.0, 2870, 0, 15, 2430, 41382]\n",
    "print(tree_regressor.predict([[4, 3.50, 2870, 68377, 2.0, 2870, 0, 15, 2430, 41382]]))\n",
    "\n",
    "# [4, 3.50,   750, 68377, 2.0,   750, 0, 15, 2430, 41382]\n",
    "print(tree_regressor.predict([[4, 3.50,   750, 68377, 2.0,   750, 0, 15, 2430, 41382]]))\n"
   ]
  },
  {
   "cell_type": "markdown",
   "metadata": {},
   "source": [
    "## Part E: Random Forest Regression\n",
    "Use 10 random trees to predict house price"
   ]
  },
  {
   "cell_type": "code",
   "execution_count": 19,
   "metadata": {},
   "outputs": [
    {
     "data": {
      "text/plain": [
       "RandomForestRegressor(n_estimators=10, random_state=0)"
      ]
     },
     "execution_count": 19,
     "metadata": {},
     "output_type": "execute_result"
    }
   ],
   "source": [
    "from sklearn.ensemble import RandomForestRegressor\n",
    "forest_regressor = RandomForestRegressor(n_estimators=10, random_state=0)\n",
    "forest_regressor.fit(limitedFeatures, y.values.ravel())\n",
    "RandomForestRegressor(bootstrap=True, ccp_alpha=0.0, criterion='mse',\n",
    "                     max_depth=None, max_features='auto', max_leaf_nodes=None,\n",
    "                     max_samples=None, min_impurity_decrease=0.0,\n",
    "                     min_impurity_split=None, min_samples_leaf=1,\n",
    "                     min_samples_split=2, min_weight_fraction_leaf=0.0,\n",
    "                     n_estimators=10, n_jobs=None, oob_score=False, \n",
    "                     random_state=0, verbose=0, warm_start=False)"
   ]
  },
  {
   "cell_type": "markdown",
   "metadata": {},
   "source": [
    "#### A. Print r-square value"
   ]
  },
  {
   "cell_type": "code",
   "execution_count": 20,
   "metadata": {},
   "outputs": [
    {
     "name": "stdout",
     "output_type": "stream",
     "text": [
      "0.944281528191851\n"
     ]
    }
   ],
   "source": [
    "print(forest_regressor.score(limitedFeatures, y))"
   ]
  },
  {
   "cell_type": "markdown",
   "metadata": {},
   "source": [
    "#### B. Predict house prices"
   ]
  },
  {
   "cell_type": "code",
   "execution_count": 21,
   "metadata": {},
   "outputs": [
    {
     "name": "stdout",
     "output_type": "stream",
     "text": [
      "[388750.]\n",
      "[214800.]\n",
      "[308600.]\n",
      "[588090.]\n",
      "[588090.]\n",
      "[523190.]\n",
      "[255754.]\n"
     ]
    }
   ],
   "source": [
    "# [Bedrooms, Bathrooms, Sqft_living, Sqft_lot, Floors, Sqft_above, Sqft_basement, Age, Sqft_living15, Sqft_lot15]\n",
    "\n",
    "# [3, 0.75, 2510, 20000, 2.0, 2510, 0, 59, 2130, 20000]\n",
    "print(forest_regressor.predict([[3, 0.75, 2510, 20000, 2.0, 2510, 0, 59, 2130, 20000]]))\n",
    "\n",
    "# [4, 2.25, 1500,   5393, 2.0, 1500, 0, 21, 1500,    5952]\n",
    "print(forest_regressor.predict([[4, 2.25, 1500,   5393, 2.0, 1500, 0, 21, 1500,    5952]]))\n",
    "\n",
    "# [4, 2.25, 2870,   5393, 2.0, 2870, 0, 21, 1500, 5952]\n",
    "print(forest_regressor.predict([[4, 2.25, 2870,   5393, 2.0, 2870, 0, 21, 1500, 5952]]))\n",
    "\n",
    "# [4, 3.50, 4083, 68377, 2.0, 4083, 0, 15, 2430, 41382]\n",
    "print(forest_regressor.predict([[4, 3.50, 4083, 68377, 2.0, 4083, 0, 15, 2430, 41382]]))\n",
    "\n",
    "# [4, 3.50, 4500, 68377, 2.0, 4500, 0, 15, 2430, 41382]\n",
    "print(forest_regressor.predict([[4, 3.50, 4500, 68377, 2.0, 4500, 0, 15, 2430, 41382]]))\n",
    "\n",
    "# [4, 3.50, 2870, 68377, 2.0, 2870, 0, 15, 2430, 41382]\n",
    "print(forest_regressor.predict([[4, 3.50, 2870, 68377, 2.0, 2870, 0, 15, 2430, 41382]]))\n",
    "\n",
    "# [4, 3.50,   750, 68377, 2.0,   750, 0, 15, 2430, 41382]\n",
    "print(forest_regressor.predict([[4, 3.50,   750, 68377, 2.0,   750, 0, 15, 2430, 41382]]))\n"
   ]
  },
  {
   "cell_type": "markdown",
   "metadata": {},
   "source": [
    "## Summary of Observations\n",
    "\n",
    "#### A. Which predictive model performed the best?\n",
    "Based off the r-squared values, the decision tree regression model performed the best. R-square is a measurement of how close the data is to the fitted regression line. The closer r-squared is to 1, the better the prediction. The order of highest to lowest r-squared values is as follows:\n",
    "1. Decision tree regression = 0.9950486495433811\n",
    "2. Random forest regression = 0.944281528191851\n",
    "3. Multiple linear regression = 0.7593185216904335\n",
    "4. Simple linear regression = 0.659298081189599\n",
    "\n",
    "#### B. Which variables are most important for prediction?\n",
    "We can find out which variables are the most important by standardizing the regression coefficients so they are all on the same scale. Standardizing features removes the mean and scales to unit variance. In multiple linear regression, we see that the coefficients are:\n",
    "```\n",
    "Coefficients:  [[ -2008.19178391   2224.15104329  32702.33335995  15532.02773631 843.94621487  25852.51876039  13768.2092072  -13000.12418346  14550.28315343  18245.54397169]]\n",
    "```\n",
    "which correspond to `[Bedrooms, Bathrooms, Sqft_living, Sqft_lot, Floors, Sqft_above, Sqft_basement, Age, Sqft_living15, Sqft_lot15]`. The coefficients with the highest absolute values represent the most significant variables for the prediction. We see that **Sqft_living**, **Sqft_above**, and **Sqft_lot15** are the most important variables for prediction."
   ]
  },
  {
   "cell_type": "code",
   "execution_count": null,
   "metadata": {},
   "outputs": [],
   "source": []
  }
 ],
 "metadata": {
  "kernelspec": {
   "display_name": "Python 3",
   "language": "python",
   "name": "python3"
  },
  "language_info": {
   "codemirror_mode": {
    "name": "ipython",
    "version": 3
   },
   "file_extension": ".py",
   "mimetype": "text/x-python",
   "name": "python",
   "nbconvert_exporter": "python",
   "pygments_lexer": "ipython3",
   "version": "3.8.3"
  }
 },
 "nbformat": 4,
 "nbformat_minor": 4
}
