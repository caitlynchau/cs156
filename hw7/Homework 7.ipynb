{
 "cells": [
  {
   "cell_type": "markdown",
   "metadata": {},
   "source": [
    "## Homework Assignment 7\n",
    "CS 156 | Fall 2020\n",
    "\n",
    "Caitlyn Chau\n",
    "\n",
    "**Problem Description**\n",
    "The objective of this homework assignment is to understand how to solve a real-world problem using Artificial Neural Network. Specifically, we will learn how to use Tensor Flow 2.0 to achieve the following goals in a step-by-step manner:\n",
    "1.\tHow to build an Artificial Neural Network (ANN)\n",
    "a.\tInitializing the ANN\n",
    "b.\tAdding the input layer and the first hidden layer\n",
    "c.\tAdding the second hidden layer\n",
    "\n",
    "2.\tHow to Train the ANN\n",
    "a.\tCompiling the ANN\n",
    "b.\tTraining the ANN on the Training set\n",
    "\n",
    "3.\tHow to make the predictions and evaluate the model\n",
    "a.\tPredicting the result of a single observation\n",
    "b.\tPredicting the Test set results\n",
    "c.\tMaking the Confusion Matrix\n",
    "\n",
    "We will explore these above steps in Artificial Neural Network by creating a Deep Learning-based model to provide guidance to a Bank that is experiencing heavy customer churn. The "
   ]
  },
  {
   "cell_type": "markdown",
   "metadata": {},
   "source": [
    "## Import dataset"
   ]
  },
  {
   "cell_type": "code",
   "execution_count": 1,
   "metadata": {},
   "outputs": [
    {
     "name": "stdout",
     "output_type": "stream",
     "text": [
      "Index(['CreditScore', 'Geography', 'Gender', 'Age', 'Tenure', 'Balance',\n",
      "       'NumOfProducts', 'HasCrCard', 'IsActiveMember', 'EstimatedSalary'],\n",
      "      dtype='object')\n"
     ]
    }
   ],
   "source": [
    "import numpy as np\n",
    "import pandas as pd\n",
    "\n",
    "dataset = pd.read_csv('Churn_Modelling.csv')\n",
    "\n",
    "# # Exclude row number, customer ID, and surname from data\n",
    "# dataset = dataset.drop(['CustomerId', 'Surname', 'RowNumber'], axis = 1)\n",
    "\n",
    "x = dataset.iloc[:,3:13]\n",
    "y = dataset.iloc[:,13]\n",
    "\n",
    "print(x.columns)"
   ]
  },
  {
   "cell_type": "markdown",
   "metadata": {},
   "source": [
    "## Data Preprocessing"
   ]
  },
  {
   "cell_type": "markdown",
   "metadata": {},
   "source": [
    "**A. Convert catagorical data (geography, gender)**"
   ]
  },
  {
   "cell_type": "code",
   "execution_count": 2,
   "metadata": {},
   "outputs": [
    {
     "data": {
      "text/html": [
       "<div>\n",
       "<style scoped>\n",
       "    .dataframe tbody tr th:only-of-type {\n",
       "        vertical-align: middle;\n",
       "    }\n",
       "\n",
       "    .dataframe tbody tr th {\n",
       "        vertical-align: top;\n",
       "    }\n",
       "\n",
       "    .dataframe thead th {\n",
       "        text-align: right;\n",
       "    }\n",
       "</style>\n",
       "<table border=\"1\" class=\"dataframe\">\n",
       "  <thead>\n",
       "    <tr style=\"text-align: right;\">\n",
       "      <th></th>\n",
       "      <th>CreditScore</th>\n",
       "      <th>Age</th>\n",
       "      <th>Tenure</th>\n",
       "      <th>Balance</th>\n",
       "      <th>NumOfProducts</th>\n",
       "      <th>HasCrCard</th>\n",
       "      <th>IsActiveMember</th>\n",
       "      <th>EstimatedSalary</th>\n",
       "      <th>Geography_France</th>\n",
       "      <th>Geography_Germany</th>\n",
       "      <th>Geography_Spain</th>\n",
       "      <th>Gender_Female</th>\n",
       "      <th>Gender_Male</th>\n",
       "    </tr>\n",
       "  </thead>\n",
       "  <tbody>\n",
       "    <tr>\n",
       "      <th>0</th>\n",
       "      <td>619</td>\n",
       "      <td>42</td>\n",
       "      <td>2</td>\n",
       "      <td>0.00</td>\n",
       "      <td>1</td>\n",
       "      <td>1</td>\n",
       "      <td>1</td>\n",
       "      <td>101348.88</td>\n",
       "      <td>1</td>\n",
       "      <td>0</td>\n",
       "      <td>0</td>\n",
       "      <td>1</td>\n",
       "      <td>0</td>\n",
       "    </tr>\n",
       "    <tr>\n",
       "      <th>1</th>\n",
       "      <td>608</td>\n",
       "      <td>41</td>\n",
       "      <td>1</td>\n",
       "      <td>83807.86</td>\n",
       "      <td>1</td>\n",
       "      <td>0</td>\n",
       "      <td>1</td>\n",
       "      <td>112542.58</td>\n",
       "      <td>0</td>\n",
       "      <td>0</td>\n",
       "      <td>1</td>\n",
       "      <td>1</td>\n",
       "      <td>0</td>\n",
       "    </tr>\n",
       "    <tr>\n",
       "      <th>2</th>\n",
       "      <td>502</td>\n",
       "      <td>42</td>\n",
       "      <td>8</td>\n",
       "      <td>159660.80</td>\n",
       "      <td>3</td>\n",
       "      <td>1</td>\n",
       "      <td>0</td>\n",
       "      <td>113931.57</td>\n",
       "      <td>1</td>\n",
       "      <td>0</td>\n",
       "      <td>0</td>\n",
       "      <td>1</td>\n",
       "      <td>0</td>\n",
       "    </tr>\n",
       "    <tr>\n",
       "      <th>3</th>\n",
       "      <td>699</td>\n",
       "      <td>39</td>\n",
       "      <td>1</td>\n",
       "      <td>0.00</td>\n",
       "      <td>2</td>\n",
       "      <td>0</td>\n",
       "      <td>0</td>\n",
       "      <td>93826.63</td>\n",
       "      <td>1</td>\n",
       "      <td>0</td>\n",
       "      <td>0</td>\n",
       "      <td>1</td>\n",
       "      <td>0</td>\n",
       "    </tr>\n",
       "    <tr>\n",
       "      <th>4</th>\n",
       "      <td>850</td>\n",
       "      <td>43</td>\n",
       "      <td>2</td>\n",
       "      <td>125510.82</td>\n",
       "      <td>1</td>\n",
       "      <td>1</td>\n",
       "      <td>1</td>\n",
       "      <td>79084.10</td>\n",
       "      <td>0</td>\n",
       "      <td>0</td>\n",
       "      <td>1</td>\n",
       "      <td>1</td>\n",
       "      <td>0</td>\n",
       "    </tr>\n",
       "  </tbody>\n",
       "</table>\n",
       "</div>"
      ],
      "text/plain": [
       "   CreditScore  Age  Tenure    Balance  NumOfProducts  HasCrCard  \\\n",
       "0          619   42       2       0.00              1          1   \n",
       "1          608   41       1   83807.86              1          0   \n",
       "2          502   42       8  159660.80              3          1   \n",
       "3          699   39       1       0.00              2          0   \n",
       "4          850   43       2  125510.82              1          1   \n",
       "\n",
       "   IsActiveMember  EstimatedSalary  Geography_France  Geography_Germany  \\\n",
       "0               1        101348.88                 1                  0   \n",
       "1               1        112542.58                 0                  0   \n",
       "2               0        113931.57                 1                  0   \n",
       "3               0         93826.63                 1                  0   \n",
       "4               1         79084.10                 0                  0   \n",
       "\n",
       "   Geography_Spain  Gender_Female  Gender_Male  \n",
       "0                0              1            0  \n",
       "1                1              1            0  \n",
       "2                0              1            0  \n",
       "3                0              1            0  \n",
       "4                1              1            0  "
      ]
     },
     "execution_count": 2,
     "metadata": {},
     "output_type": "execute_result"
    }
   ],
   "source": [
    "x = pd.get_dummies(x)\n",
    "\n",
    "x.head()"
   ]
  },
  {
   "cell_type": "markdown",
   "metadata": {},
   "source": [
    "**B. Split dataset into training and test set**"
   ]
  },
  {
   "cell_type": "code",
   "execution_count": 3,
   "metadata": {},
   "outputs": [],
   "source": [
    "from sklearn.model_selection import train_test_split\n",
    "\n",
    "x_train, x_test, y_train, y_test = train_test_split(x, y, test_size=0.25, random_state=0)"
   ]
  },
  {
   "cell_type": "markdown",
   "metadata": {},
   "source": [
    "**C. Feature scaling**"
   ]
  },
  {
   "cell_type": "code",
   "execution_count": 4,
   "metadata": {},
   "outputs": [],
   "source": [
    "from sklearn.preprocessing import StandardScaler\n",
    "sc = StandardScaler()\n",
    "x_train = sc.fit_transform(x_train)\n",
    "x_test = sc.transform(x_test)"
   ]
  },
  {
   "cell_type": "markdown",
   "metadata": {},
   "source": [
    "## Building the Artificial Neural Network (ANN)"
   ]
  },
  {
   "cell_type": "markdown",
   "metadata": {},
   "source": [
    "**A. Initialize ANN with 6 nodes per hidden layer**"
   ]
  },
  {
   "cell_type": "code",
   "execution_count": 5,
   "metadata": {},
   "outputs": [],
   "source": [
    "import tensorflow as tf\n",
    "# Initialize ANN\n",
    "ann = tf.keras.models.Sequential()"
   ]
  },
  {
   "cell_type": "markdown",
   "metadata": {},
   "source": [
    "**B. Adding the input layer and the first hidden layer**"
   ]
  },
  {
   "cell_type": "code",
   "execution_count": 6,
   "metadata": {},
   "outputs": [],
   "source": [
    "ann.add(tf.keras.layers.Dense(units=6, activation='relu'))"
   ]
  },
  {
   "cell_type": "markdown",
   "metadata": {},
   "source": [
    "**C. Add the second hidden layer**"
   ]
  },
  {
   "cell_type": "code",
   "execution_count": 7,
   "metadata": {},
   "outputs": [],
   "source": [
    "ann.add(tf.keras.layers.Dense(units=6, activation='relu'))"
   ]
  },
  {
   "cell_type": "markdown",
   "metadata": {},
   "source": [
    "**D. Add the output layer**"
   ]
  },
  {
   "cell_type": "code",
   "execution_count": 8,
   "metadata": {},
   "outputs": [],
   "source": [
    "ann.add(tf.keras.layers.Dense(units=1, activation='sigmoid'))"
   ]
  },
  {
   "cell_type": "markdown",
   "metadata": {},
   "source": [
    "## Training the ANN\n",
    "**A. Compiling the ANN**"
   ]
  },
  {
   "cell_type": "code",
   "execution_count": 9,
   "metadata": {},
   "outputs": [],
   "source": [
    "ann.compile(optimizer = 'adam', loss = 'binary_crossentropy', metrics = ['accuracy'])"
   ]
  },
  {
   "cell_type": "markdown",
   "metadata": {},
   "source": [
    "**B. Training the ANN on the training set**"
   ]
  },
  {
   "cell_type": "code",
   "execution_count": 10,
   "metadata": {},
   "outputs": [
    {
     "name": "stdout",
     "output_type": "stream",
     "text": [
      "Epoch 1/100\n",
      "750/750 [==============================] - 1s 1ms/step - loss: 0.5460 - accuracy: 0.7645\n",
      "Epoch 2/100\n",
      "750/750 [==============================] - 1s 982us/step - loss: 0.4589 - accuracy: 0.7963\n",
      "Epoch 3/100\n",
      "750/750 [==============================] - 1s 1ms/step - loss: 0.4378 - accuracy: 0.7963\n",
      "Epoch 4/100\n",
      "750/750 [==============================] - 1s 1ms/step - loss: 0.4276 - accuracy: 0.7963\n",
      "Epoch 5/100\n",
      "750/750 [==============================] - 1s 1ms/step - loss: 0.4187 - accuracy: 0.7963\n",
      "Epoch 6/100\n",
      "750/750 [==============================] - 1s 1ms/step - loss: 0.4069 - accuracy: 0.7963\n",
      "Epoch 7/100\n",
      "750/750 [==============================] - 1s 1ms/step - loss: 0.3957 - accuracy: 0.8239\n",
      "Epoch 8/100\n",
      "750/750 [==============================] - 1s 1ms/step - loss: 0.3848 - accuracy: 0.8377\n",
      "Epoch 9/100\n",
      "750/750 [==============================] - 1s 1ms/step - loss: 0.3716 - accuracy: 0.8451\n",
      "Epoch 10/100\n",
      "750/750 [==============================] - 1s 1ms/step - loss: 0.3639 - accuracy: 0.8457\n",
      "Epoch 11/100\n",
      "750/750 [==============================] - 1s 1ms/step - loss: 0.3604 - accuracy: 0.8492\n",
      "Epoch 12/100\n",
      "750/750 [==============================] - 1s 1ms/step - loss: 0.3591 - accuracy: 0.8504\n",
      "Epoch 13/100\n",
      "750/750 [==============================] - 1s 1ms/step - loss: 0.3569 - accuracy: 0.8515\n",
      "Epoch 14/100\n",
      "750/750 [==============================] - 1s 2ms/step - loss: 0.3555 - accuracy: 0.8541\n",
      "Epoch 15/100\n",
      "750/750 [==============================] - 1s 2ms/step - loss: 0.3549 - accuracy: 0.8521\n",
      "Epoch 16/100\n",
      "750/750 [==============================] - 1s 1ms/step - loss: 0.3537 - accuracy: 0.8556\n",
      "Epoch 17/100\n",
      "750/750 [==============================] - 1s 1ms/step - loss: 0.3527 - accuracy: 0.8544\n",
      "Epoch 18/100\n",
      "750/750 [==============================] - 1s 1ms/step - loss: 0.3516 - accuracy: 0.8572\n",
      "Epoch 19/100\n",
      "750/750 [==============================] - 1s 1ms/step - loss: 0.3508 - accuracy: 0.8555\n",
      "Epoch 20/100\n",
      "750/750 [==============================] - 1s 2ms/step - loss: 0.3498 - accuracy: 0.8573\n",
      "Epoch 21/100\n",
      "750/750 [==============================] - 1s 1ms/step - loss: 0.3488 - accuracy: 0.8588\n",
      "Epoch 22/100\n",
      "750/750 [==============================] - 1s 1ms/step - loss: 0.3480 - accuracy: 0.8573\n",
      "Epoch 23/100\n",
      "750/750 [==============================] - 1s 1ms/step - loss: 0.3470 - accuracy: 0.8593\n",
      "Epoch 24/100\n",
      "750/750 [==============================] - 1s 2ms/step - loss: 0.3463 - accuracy: 0.8599\n",
      "Epoch 25/100\n",
      "750/750 [==============================] - 1s 1ms/step - loss: 0.3458 - accuracy: 0.8605\n",
      "Epoch 26/100\n",
      "750/750 [==============================] - 1s 1ms/step - loss: 0.3447 - accuracy: 0.8613\n",
      "Epoch 27/100\n",
      "750/750 [==============================] - 1s 1ms/step - loss: 0.3451 - accuracy: 0.8612\n",
      "Epoch 28/100\n",
      "750/750 [==============================] - 1s 1ms/step - loss: 0.3442 - accuracy: 0.8617\n",
      "Epoch 29/100\n",
      "750/750 [==============================] - 1s 1ms/step - loss: 0.3437 - accuracy: 0.8620\n",
      "Epoch 30/100\n",
      "750/750 [==============================] - 1s 1ms/step - loss: 0.3437 - accuracy: 0.8609\n",
      "Epoch 31/100\n",
      "750/750 [==============================] - 1s 1ms/step - loss: 0.3432 - accuracy: 0.8617\n",
      "Epoch 32/100\n",
      "750/750 [==============================] - 1s 1ms/step - loss: 0.3433 - accuracy: 0.8612\n",
      "Epoch 33/100\n",
      "750/750 [==============================] - 1s 1ms/step - loss: 0.3427 - accuracy: 0.8628\n",
      "Epoch 34/100\n",
      "750/750 [==============================] - 1s 1ms/step - loss: 0.3423 - accuracy: 0.8624\n",
      "Epoch 35/100\n",
      "750/750 [==============================] - 1s 1ms/step - loss: 0.3422 - accuracy: 0.8611\n",
      "Epoch 36/100\n",
      "750/750 [==============================] - 1s 1ms/step - loss: 0.3423 - accuracy: 0.8611\n",
      "Epoch 37/100\n",
      "750/750 [==============================] - 1s 1ms/step - loss: 0.3415 - accuracy: 0.8631\n",
      "Epoch 38/100\n",
      "750/750 [==============================] - 1s 1ms/step - loss: 0.3415 - accuracy: 0.8616\n",
      "Epoch 39/100\n",
      "750/750 [==============================] - 1s 1ms/step - loss: 0.3414 - accuracy: 0.8620\n",
      "Epoch 40/100\n",
      "750/750 [==============================] - 1s 1ms/step - loss: 0.3411 - accuracy: 0.8637\n",
      "Epoch 41/100\n",
      "750/750 [==============================] - 1s 1ms/step - loss: 0.3411 - accuracy: 0.8627\n",
      "Epoch 42/100\n",
      "750/750 [==============================] - 1s 1ms/step - loss: 0.3409 - accuracy: 0.8607\n",
      "Epoch 43/100\n",
      "750/750 [==============================] - 1s 1ms/step - loss: 0.3408 - accuracy: 0.8609\n",
      "Epoch 44/100\n",
      "750/750 [==============================] - 1s 1ms/step - loss: 0.3407 - accuracy: 0.8616\n",
      "Epoch 45/100\n",
      "750/750 [==============================] - 1s 1ms/step - loss: 0.3407 - accuracy: 0.8608\n",
      "Epoch 46/100\n",
      "750/750 [==============================] - 1s 1ms/step - loss: 0.3406 - accuracy: 0.8636\n",
      "Epoch 47/100\n",
      "750/750 [==============================] - 1s 1ms/step - loss: 0.3406 - accuracy: 0.8635\n",
      "Epoch 48/100\n",
      "750/750 [==============================] - 1s 1ms/step - loss: 0.3403 - accuracy: 0.8636\n",
      "Epoch 49/100\n",
      "750/750 [==============================] - 1s 1ms/step - loss: 0.3403 - accuracy: 0.8628\n",
      "Epoch 50/100\n",
      "750/750 [==============================] - 1s 1ms/step - loss: 0.3401 - accuracy: 0.8629\n",
      "Epoch 51/100\n",
      "750/750 [==============================] - 1s 1ms/step - loss: 0.3402 - accuracy: 0.8628\n",
      "Epoch 52/100\n",
      "750/750 [==============================] - 1s 1ms/step - loss: 0.3400 - accuracy: 0.8627\n",
      "Epoch 53/100\n",
      "750/750 [==============================] - 1s 1ms/step - loss: 0.3398 - accuracy: 0.8627\n",
      "Epoch 54/100\n",
      "750/750 [==============================] - 1s 1ms/step - loss: 0.3395 - accuracy: 0.8613\n",
      "Epoch 55/100\n",
      "750/750 [==============================] - 1s 1ms/step - loss: 0.3403 - accuracy: 0.8624\n",
      "Epoch 56/100\n",
      "750/750 [==============================] - 1s 1ms/step - loss: 0.3393 - accuracy: 0.8623\n",
      "Epoch 57/100\n",
      "750/750 [==============================] - 1s 1ms/step - loss: 0.3386 - accuracy: 0.8643\n",
      "Epoch 58/100\n",
      "750/750 [==============================] - 1s 1ms/step - loss: 0.3397 - accuracy: 0.8617\n",
      "Epoch 59/100\n",
      "750/750 [==============================] - 1s 1ms/step - loss: 0.3393 - accuracy: 0.8620\n",
      "Epoch 60/100\n",
      "750/750 [==============================] - 1s 1ms/step - loss: 0.3399 - accuracy: 0.8629\n",
      "Epoch 61/100\n",
      "750/750 [==============================] - 1s 1ms/step - loss: 0.3390 - accuracy: 0.8624\n",
      "Epoch 62/100\n",
      "750/750 [==============================] - 1s 1ms/step - loss: 0.3391 - accuracy: 0.8637\n",
      "Epoch 63/100\n",
      "750/750 [==============================] - 1s 1ms/step - loss: 0.3388 - accuracy: 0.8617\n",
      "Epoch 64/100\n",
      "750/750 [==============================] - 1s 1ms/step - loss: 0.3389 - accuracy: 0.8631\n",
      "Epoch 65/100\n",
      "750/750 [==============================] - 1s 1ms/step - loss: 0.3392 - accuracy: 0.8641\n",
      "Epoch 66/100\n",
      "750/750 [==============================] - 1s 1ms/step - loss: 0.3389 - accuracy: 0.8620\n",
      "Epoch 67/100\n",
      "750/750 [==============================] - 1s 1ms/step - loss: 0.3386 - accuracy: 0.8640\n",
      "Epoch 68/100\n",
      "750/750 [==============================] - 1s 1ms/step - loss: 0.3381 - accuracy: 0.8625\n",
      "Epoch 69/100\n",
      "750/750 [==============================] - 1s 1ms/step - loss: 0.3387 - accuracy: 0.8625\n",
      "Epoch 70/100\n",
      "750/750 [==============================] - 1s 1ms/step - loss: 0.3384 - accuracy: 0.8624\n",
      "Epoch 71/100\n",
      "750/750 [==============================] - 1s 1ms/step - loss: 0.3383 - accuracy: 0.8621\n",
      "Epoch 72/100\n",
      "750/750 [==============================] - 1s 1ms/step - loss: 0.3388 - accuracy: 0.8636\n",
      "Epoch 73/100\n",
      "750/750 [==============================] - 1s 1ms/step - loss: 0.3383 - accuracy: 0.8637\n",
      "Epoch 74/100\n",
      "750/750 [==============================] - 1s 1ms/step - loss: 0.3383 - accuracy: 0.8643\n",
      "Epoch 75/100\n",
      "750/750 [==============================] - 1s 1ms/step - loss: 0.3384 - accuracy: 0.8621\n",
      "Epoch 76/100\n",
      "750/750 [==============================] - 1s 1ms/step - loss: 0.3380 - accuracy: 0.8628\n",
      "Epoch 77/100\n",
      "750/750 [==============================] - 1s 1ms/step - loss: 0.3381 - accuracy: 0.8619\n",
      "Epoch 78/100\n",
      "750/750 [==============================] - 1s 1ms/step - loss: 0.3376 - accuracy: 0.8628\n",
      "Epoch 79/100\n",
      "750/750 [==============================] - 1s 1ms/step - loss: 0.3381 - accuracy: 0.8641\n",
      "Epoch 80/100\n",
      "750/750 [==============================] - 1s 1ms/step - loss: 0.3382 - accuracy: 0.8609\n",
      "Epoch 81/100\n"
     ]
    },
    {
     "name": "stdout",
     "output_type": "stream",
     "text": [
      "750/750 [==============================] - 1s 1ms/step - loss: 0.3378 - accuracy: 0.8628\n",
      "Epoch 82/100\n",
      "750/750 [==============================] - 1s 967us/step - loss: 0.3377 - accuracy: 0.8648\n",
      "Epoch 83/100\n",
      "750/750 [==============================] - 1s 1ms/step - loss: 0.3378 - accuracy: 0.8644\n",
      "Epoch 84/100\n",
      "750/750 [==============================] - 1s 1ms/step - loss: 0.3375 - accuracy: 0.8631\n",
      "Epoch 85/100\n",
      "750/750 [==============================] - 1s 1ms/step - loss: 0.3384 - accuracy: 0.8623\n",
      "Epoch 86/100\n",
      "750/750 [==============================] - 1s 988us/step - loss: 0.3375 - accuracy: 0.8616\n",
      "Epoch 87/100\n",
      "750/750 [==============================] - 1s 1ms/step - loss: 0.3376 - accuracy: 0.8612\n",
      "Epoch 88/100\n",
      "750/750 [==============================] - 1s 984us/step - loss: 0.3378 - accuracy: 0.8623\n",
      "Epoch 89/100\n",
      "750/750 [==============================] - 1s 965us/step - loss: 0.3373 - accuracy: 0.8629\n",
      "Epoch 90/100\n",
      "750/750 [==============================] - 1s 991us/step - loss: 0.3372 - accuracy: 0.8623\n",
      "Epoch 91/100\n",
      "750/750 [==============================] - 1s 1ms/step - loss: 0.3373 - accuracy: 0.8631\n",
      "Epoch 92/100\n",
      "750/750 [==============================] - 1s 987us/step - loss: 0.3369 - accuracy: 0.8632\n",
      "Epoch 93/100\n",
      "750/750 [==============================] - 1s 1ms/step - loss: 0.3371 - accuracy: 0.8624\n",
      "Epoch 94/100\n",
      "750/750 [==============================] - 1s 1ms/step - loss: 0.3369 - accuracy: 0.8615\n",
      "Epoch 95/100\n",
      "750/750 [==============================] - 1s 1ms/step - loss: 0.3369 - accuracy: 0.8613\n",
      "Epoch 96/100\n",
      "750/750 [==============================] - 1s 975us/step - loss: 0.3370 - accuracy: 0.8629\n",
      "Epoch 97/100\n",
      "750/750 [==============================] - 1s 986us/step - loss: 0.3371 - accuracy: 0.8613\n",
      "Epoch 98/100\n",
      "750/750 [==============================] - 1s 1ms/step - loss: 0.3370 - accuracy: 0.8623\n",
      "Epoch 99/100\n",
      "750/750 [==============================] - 1s 976us/step - loss: 0.3371 - accuracy: 0.8635\n",
      "Epoch 100/100\n",
      "750/750 [==============================] - 1s 1ms/step - loss: 0.3363 - accuracy: 0.8629\n"
     ]
    },
    {
     "data": {
      "text/plain": [
       "<tensorflow.python.keras.callbacks.History at 0x241acd92b50>"
      ]
     },
     "execution_count": 10,
     "metadata": {},
     "output_type": "execute_result"
    }
   ],
   "source": [
    "ann.fit(x_train, y_train, batch_size=10, epochs=100)"
   ]
  },
  {
   "cell_type": "code",
   "execution_count": null,
   "metadata": {},
   "outputs": [],
   "source": []
  },
  {
   "cell_type": "markdown",
   "metadata": {},
   "source": [
    "## Making predictions and evaluating the model\n",
    "**A. Predict result of a single observation**\n",
    "1. Credit score = 600\n",
    "2. Geography = France\n",
    "3. Gender = male\n",
    "4. Age = 40\n",
    "5. Tenure = 3\n",
    "6. Balance = 60000\n",
    "7. Number of products = 2\n",
    "8. Credit card = Yes\n",
    "9. Active member = Yes\n",
    "10. Estimated salary = 50000"
   ]
  },
  {
   "cell_type": "code",
   "execution_count": 14,
   "metadata": {},
   "outputs": [
    {
     "name": "stdout",
     "output_type": "stream",
     "text": [
      "[[ True]]\n"
     ]
    }
   ],
   "source": [
    "sample_prediction = ann.predict(np.array([[600, 40, 3, 60000, 2, 1, 1, 50000, 1, 0, 0, 0, 1]]))\n",
    "sample_prediction = (sample_prediction > 0.5)\n",
    "print(sample_prediction)"
   ]
  },
  {
   "cell_type": "markdown",
   "metadata": {},
   "source": [
    "**B. Predict the test set results**"
   ]
  },
  {
   "cell_type": "code",
   "execution_count": 16,
   "metadata": {},
   "outputs": [],
   "source": [
    "y_pred = ann.predict(x_test)\n",
    "y_pred = (y_pred > 0.5)"
   ]
  },
  {
   "cell_type": "markdown",
   "metadata": {},
   "source": [
    "**C. Print the confusion matrix**"
   ]
  },
  {
   "cell_type": "code",
   "execution_count": 17,
   "metadata": {},
   "outputs": [
    {
     "name": "stdout",
     "output_type": "stream",
     "text": [
      "[[1886  105]\n",
      " [ 247  262]]\n"
     ]
    }
   ],
   "source": [
    "from sklearn.metrics import confusion_matrix\n",
    "cm = confusion_matrix(y_test, y_pred)\n",
    "print(cm)"
   ]
  },
  {
   "cell_type": "markdown",
   "metadata": {},
   "source": [
    "## Extra Credit\n",
    "**A. Run the ANN model on a range of input parameters to show some exits and some non-exits from the bank**"
   ]
  },
  {
   "cell_type": "code",
   "execution_count": null,
   "metadata": {},
   "outputs": [],
   "source": []
  }
 ],
 "metadata": {
  "kernelspec": {
   "display_name": "Python 3",
   "language": "python",
   "name": "python3"
  },
  "language_info": {
   "codemirror_mode": {
    "name": "ipython",
    "version": 3
   },
   "file_extension": ".py",
   "mimetype": "text/x-python",
   "name": "python",
   "nbconvert_exporter": "python",
   "pygments_lexer": "ipython3",
   "version": "3.8.3"
  }
 },
 "nbformat": 4,
 "nbformat_minor": 4
}
