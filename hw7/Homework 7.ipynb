{
 "cells": [
  {
   "cell_type": "markdown",
   "metadata": {},
   "source": [
    "## Homework Assignment 7\n",
    "CS 156 | Fall 2020\n",
    "\n",
    "Caitlyn Chau\n",
    "\n",
    "**Problem Description**\n",
    "The objective of this homework assignment is to understand how to solve a real-world problem using Artificial Neural Network. Specifically, we will learn how to use Tensor Flow 2.0 to achieve the following goals in a step-by-step manner:\n",
    "1.\tHow to build an Artificial Neural Network (ANN)\n",
    "a.\tInitializing the ANN\n",
    "b.\tAdding the input layer and the first hidden layer\n",
    "c.\tAdding the second hidden layer\n",
    "\n",
    "2.\tHow to Train the ANN\n",
    "a.\tCompiling the ANN\n",
    "b.\tTraining the ANN on the Training set\n",
    "\n",
    "3.\tHow to make the predictions and evaluate the model\n",
    "a.\tPredicting the result of a single observation\n",
    "b.\tPredicting the Test set results\n",
    "c.\tMaking the Confusion Matrix\n",
    "\n",
    "We will explore these above steps in Artificial Neural Network by creating a Deep Learning-based model to provide guidance to a Bank that is experiencing heavy customer churn. The "
   ]
  },
  {
   "cell_type": "markdown",
   "metadata": {},
   "source": [
    "## Import dataset"
   ]
  },
  {
   "cell_type": "code",
   "execution_count": 1,
   "metadata": {},
   "outputs": [
    {
     "name": "stdout",
     "output_type": "stream",
     "text": [
      "Index(['CreditScore', 'Geography', 'Gender', 'Age', 'Tenure', 'Balance',\n",
      "       'NumOfProducts', 'HasCrCard', 'IsActiveMember', 'EstimatedSalary'],\n",
      "      dtype='object')\n"
     ]
    }
   ],
   "source": [
    "import numpy as np\n",
    "import pandas as pd\n",
    "\n",
    "dataset = pd.read_csv('Churn_Modelling.csv')\n",
    "\n",
    "# # Exclude row number, customer ID, and surname from data\n",
    "# dataset = dataset.drop(['CustomerId', 'Surname', 'RowNumber'], axis = 1)\n",
    "\n",
    "x = dataset.iloc[:,3:13]\n",
    "y = dataset.iloc[:,13]\n",
    "\n",
    "print(x.columns)"
   ]
  },
  {
   "cell_type": "markdown",
   "metadata": {},
   "source": [
    "## Data Preprocessing"
   ]
  },
  {
   "cell_type": "markdown",
   "metadata": {},
   "source": [
    "**A. Convert catagorical data (geography, gender)**"
   ]
  },
  {
   "cell_type": "code",
   "execution_count": 2,
   "metadata": {},
   "outputs": [
    {
     "data": {
      "text/html": [
       "<div>\n",
       "<style scoped>\n",
       "    .dataframe tbody tr th:only-of-type {\n",
       "        vertical-align: middle;\n",
       "    }\n",
       "\n",
       "    .dataframe tbody tr th {\n",
       "        vertical-align: top;\n",
       "    }\n",
       "\n",
       "    .dataframe thead th {\n",
       "        text-align: right;\n",
       "    }\n",
       "</style>\n",
       "<table border=\"1\" class=\"dataframe\">\n",
       "  <thead>\n",
       "    <tr style=\"text-align: right;\">\n",
       "      <th></th>\n",
       "      <th>CreditScore</th>\n",
       "      <th>Age</th>\n",
       "      <th>Tenure</th>\n",
       "      <th>Balance</th>\n",
       "      <th>NumOfProducts</th>\n",
       "      <th>HasCrCard</th>\n",
       "      <th>IsActiveMember</th>\n",
       "      <th>EstimatedSalary</th>\n",
       "      <th>Geography_France</th>\n",
       "      <th>Geography_Germany</th>\n",
       "      <th>Geography_Spain</th>\n",
       "      <th>Gender_Female</th>\n",
       "      <th>Gender_Male</th>\n",
       "    </tr>\n",
       "  </thead>\n",
       "  <tbody>\n",
       "    <tr>\n",
       "      <th>0</th>\n",
       "      <td>619</td>\n",
       "      <td>42</td>\n",
       "      <td>2</td>\n",
       "      <td>0.00</td>\n",
       "      <td>1</td>\n",
       "      <td>1</td>\n",
       "      <td>1</td>\n",
       "      <td>101348.88</td>\n",
       "      <td>1</td>\n",
       "      <td>0</td>\n",
       "      <td>0</td>\n",
       "      <td>1</td>\n",
       "      <td>0</td>\n",
       "    </tr>\n",
       "    <tr>\n",
       "      <th>1</th>\n",
       "      <td>608</td>\n",
       "      <td>41</td>\n",
       "      <td>1</td>\n",
       "      <td>83807.86</td>\n",
       "      <td>1</td>\n",
       "      <td>0</td>\n",
       "      <td>1</td>\n",
       "      <td>112542.58</td>\n",
       "      <td>0</td>\n",
       "      <td>0</td>\n",
       "      <td>1</td>\n",
       "      <td>1</td>\n",
       "      <td>0</td>\n",
       "    </tr>\n",
       "    <tr>\n",
       "      <th>2</th>\n",
       "      <td>502</td>\n",
       "      <td>42</td>\n",
       "      <td>8</td>\n",
       "      <td>159660.80</td>\n",
       "      <td>3</td>\n",
       "      <td>1</td>\n",
       "      <td>0</td>\n",
       "      <td>113931.57</td>\n",
       "      <td>1</td>\n",
       "      <td>0</td>\n",
       "      <td>0</td>\n",
       "      <td>1</td>\n",
       "      <td>0</td>\n",
       "    </tr>\n",
       "    <tr>\n",
       "      <th>3</th>\n",
       "      <td>699</td>\n",
       "      <td>39</td>\n",
       "      <td>1</td>\n",
       "      <td>0.00</td>\n",
       "      <td>2</td>\n",
       "      <td>0</td>\n",
       "      <td>0</td>\n",
       "      <td>93826.63</td>\n",
       "      <td>1</td>\n",
       "      <td>0</td>\n",
       "      <td>0</td>\n",
       "      <td>1</td>\n",
       "      <td>0</td>\n",
       "    </tr>\n",
       "    <tr>\n",
       "      <th>4</th>\n",
       "      <td>850</td>\n",
       "      <td>43</td>\n",
       "      <td>2</td>\n",
       "      <td>125510.82</td>\n",
       "      <td>1</td>\n",
       "      <td>1</td>\n",
       "      <td>1</td>\n",
       "      <td>79084.10</td>\n",
       "      <td>0</td>\n",
       "      <td>0</td>\n",
       "      <td>1</td>\n",
       "      <td>1</td>\n",
       "      <td>0</td>\n",
       "    </tr>\n",
       "  </tbody>\n",
       "</table>\n",
       "</div>"
      ],
      "text/plain": [
       "   CreditScore  Age  Tenure    Balance  NumOfProducts  HasCrCard  \\\n",
       "0          619   42       2       0.00              1          1   \n",
       "1          608   41       1   83807.86              1          0   \n",
       "2          502   42       8  159660.80              3          1   \n",
       "3          699   39       1       0.00              2          0   \n",
       "4          850   43       2  125510.82              1          1   \n",
       "\n",
       "   IsActiveMember  EstimatedSalary  Geography_France  Geography_Germany  \\\n",
       "0               1        101348.88                 1                  0   \n",
       "1               1        112542.58                 0                  0   \n",
       "2               0        113931.57                 1                  0   \n",
       "3               0         93826.63                 1                  0   \n",
       "4               1         79084.10                 0                  0   \n",
       "\n",
       "   Geography_Spain  Gender_Female  Gender_Male  \n",
       "0                0              1            0  \n",
       "1                1              1            0  \n",
       "2                0              1            0  \n",
       "3                0              1            0  \n",
       "4                1              1            0  "
      ]
     },
     "execution_count": 2,
     "metadata": {},
     "output_type": "execute_result"
    }
   ],
   "source": [
    "x = pd.get_dummies(x)\n",
    "\n",
    "x.head()"
   ]
  },
  {
   "cell_type": "markdown",
   "metadata": {},
   "source": [
    "**B. Split dataset into training and test set**"
   ]
  },
  {
   "cell_type": "code",
   "execution_count": 3,
   "metadata": {},
   "outputs": [],
   "source": [
    "from sklearn.model_selection import train_test_split\n",
    "\n",
    "x_train, x_test, y_train, y_test = train_test_split(x, y, test_size=0.25, random_state=0)"
   ]
  },
  {
   "cell_type": "markdown",
   "metadata": {},
   "source": [
    "**C. Feature scaling**"
   ]
  },
  {
   "cell_type": "code",
   "execution_count": 4,
   "metadata": {},
   "outputs": [],
   "source": [
    "from sklearn.preprocessing import StandardScaler\n",
    "sc = StandardScaler()\n",
    "x_train = sc.fit_transform(x_train)\n",
    "x_test = sc.transform(x_test)"
   ]
  },
  {
   "cell_type": "markdown",
   "metadata": {},
   "source": [
    "## Building the Artificial Neural Network (ANN)"
   ]
  },
  {
   "cell_type": "markdown",
   "metadata": {},
   "source": [
    "**A. Initialize ANN with 6 nodes per hidden layer**"
   ]
  },
  {
   "cell_type": "code",
   "execution_count": 5,
   "metadata": {},
   "outputs": [],
   "source": [
    "import tensorflow as tf\n",
    "# Initialize ANN\n",
    "ann = tf.keras.models.Sequential()"
   ]
  },
  {
   "cell_type": "markdown",
   "metadata": {},
   "source": [
    "**B. Adding the input layer and the first hidden layer**"
   ]
  },
  {
   "cell_type": "code",
   "execution_count": 6,
   "metadata": {},
   "outputs": [],
   "source": [
    "ann.add(tf.keras.layers.Dense(units=6, activation='relu'))"
   ]
  },
  {
   "cell_type": "markdown",
   "metadata": {},
   "source": [
    "**C. Add the second hidden layer**"
   ]
  },
  {
   "cell_type": "code",
   "execution_count": 7,
   "metadata": {},
   "outputs": [],
   "source": [
    "ann.add(tf.keras.layers.Dense(units=6, activation='relu'))"
   ]
  },
  {
   "cell_type": "markdown",
   "metadata": {},
   "source": [
    "**D. Add the output layer**"
   ]
  },
  {
   "cell_type": "code",
   "execution_count": 8,
   "metadata": {},
   "outputs": [],
   "source": [
    "ann.add(tf.keras.layers.Dense(units=1, activation='sigmoid'))"
   ]
  },
  {
   "cell_type": "markdown",
   "metadata": {},
   "source": [
    "## Training the ANN\n",
    "**A. Compiling the ANN**"
   ]
  },
  {
   "cell_type": "code",
   "execution_count": 9,
   "metadata": {},
   "outputs": [],
   "source": [
    "ann.compile(optimizer = 'adam', loss = 'binary_crossentropy', metrics = ['accuracy'])"
   ]
  },
  {
   "cell_type": "markdown",
   "metadata": {},
   "source": [
    "**B. Training the ANN on the training set**"
   ]
  },
  {
   "cell_type": "code",
   "execution_count": 10,
   "metadata": {},
   "outputs": [
    {
     "name": "stdout",
     "output_type": "stream",
     "text": [
      "Epoch 1/100\n",
      "235/235 [==============================] - 0s 1ms/step - loss: 0.6337 - accuracy: 0.7016\n",
      "Epoch 2/100\n",
      "235/235 [==============================] - 0s 1ms/step - loss: 0.4847 - accuracy: 0.8019\n",
      "Epoch 3/100\n",
      "235/235 [==============================] - 0s 1ms/step - loss: 0.4517 - accuracy: 0.8071\n",
      "Epoch 4/100\n",
      "235/235 [==============================] - 0s 1ms/step - loss: 0.4341 - accuracy: 0.8120\n",
      "Epoch 5/100\n",
      "235/235 [==============================] - 0s 1ms/step - loss: 0.4215 - accuracy: 0.8192\n",
      "Epoch 6/100\n",
      "235/235 [==============================] - 0s 1ms/step - loss: 0.4116 - accuracy: 0.8263\n",
      "Epoch 7/100\n",
      "235/235 [==============================] - 0s 1ms/step - loss: 0.4033 - accuracy: 0.8329\n",
      "Epoch 8/100\n",
      "235/235 [==============================] - 0s 1ms/step - loss: 0.3970 - accuracy: 0.8368\n",
      "Epoch 9/100\n",
      "235/235 [==============================] - 0s 1ms/step - loss: 0.3909 - accuracy: 0.8384\n",
      "Epoch 10/100\n",
      "235/235 [==============================] - 0s 1ms/step - loss: 0.3845 - accuracy: 0.8404\n",
      "Epoch 11/100\n",
      "235/235 [==============================] - 0s 1ms/step - loss: 0.3784 - accuracy: 0.8415\n",
      "Epoch 12/100\n",
      "235/235 [==============================] - 0s 1ms/step - loss: 0.3730 - accuracy: 0.8443\n",
      "Epoch 13/100\n",
      "235/235 [==============================] - 0s 1ms/step - loss: 0.3677 - accuracy: 0.8475\n",
      "Epoch 14/100\n",
      "235/235 [==============================] - 0s 1ms/step - loss: 0.3629 - accuracy: 0.8485\n",
      "Epoch 15/100\n",
      "235/235 [==============================] - 0s 1ms/step - loss: 0.3581 - accuracy: 0.8520\n",
      "Epoch 16/100\n",
      "235/235 [==============================] - 0s 1ms/step - loss: 0.3546 - accuracy: 0.8523\n",
      "Epoch 17/100\n",
      "235/235 [==============================] - 0s 1ms/step - loss: 0.3518 - accuracy: 0.8559\n",
      "Epoch 18/100\n",
      "235/235 [==============================] - 0s 1ms/step - loss: 0.3495 - accuracy: 0.8556\n",
      "Epoch 19/100\n",
      "235/235 [==============================] - 0s 1ms/step - loss: 0.3478 - accuracy: 0.8601\n",
      "Epoch 20/100\n",
      "235/235 [==============================] - 0s 1ms/step - loss: 0.3460 - accuracy: 0.8584\n",
      "Epoch 21/100\n",
      "235/235 [==============================] - 0s 1ms/step - loss: 0.3447 - accuracy: 0.8595\n",
      "Epoch 22/100\n",
      "235/235 [==============================] - 0s 1ms/step - loss: 0.3438 - accuracy: 0.8604\n",
      "Epoch 23/100\n",
      "235/235 [==============================] - 0s 1ms/step - loss: 0.3432 - accuracy: 0.8607\n",
      "Epoch 24/100\n",
      "235/235 [==============================] - 0s 1ms/step - loss: 0.3423 - accuracy: 0.8611\n",
      "Epoch 25/100\n",
      "235/235 [==============================] - 0s 1ms/step - loss: 0.3418 - accuracy: 0.8609\n",
      "Epoch 26/100\n",
      "235/235 [==============================] - 0s 1ms/step - loss: 0.3410 - accuracy: 0.8605: 0s - loss: 0.3471 - accuracy\n",
      "Epoch 27/100\n",
      "235/235 [==============================] - 0s 1ms/step - loss: 0.3404 - accuracy: 0.8637\n",
      "Epoch 28/100\n",
      "235/235 [==============================] - 0s 1ms/step - loss: 0.3407 - accuracy: 0.8613\n",
      "Epoch 29/100\n",
      "235/235 [==============================] - 0s 1ms/step - loss: 0.3401 - accuracy: 0.8623\n",
      "Epoch 30/100\n",
      "235/235 [==============================] - 0s 1ms/step - loss: 0.3399 - accuracy: 0.8629\n",
      "Epoch 31/100\n",
      "235/235 [==============================] - 0s 1ms/step - loss: 0.3397 - accuracy: 0.8600\n",
      "Epoch 32/100\n",
      "235/235 [==============================] - 0s 1ms/step - loss: 0.3393 - accuracy: 0.8623\n",
      "Epoch 33/100\n",
      "235/235 [==============================] - 0s 1ms/step - loss: 0.3386 - accuracy: 0.8627\n",
      "Epoch 34/100\n",
      "235/235 [==============================] - 0s 1ms/step - loss: 0.3389 - accuracy: 0.8628\n",
      "Epoch 35/100\n",
      "235/235 [==============================] - 0s 1ms/step - loss: 0.3385 - accuracy: 0.8619\n",
      "Epoch 36/100\n",
      "235/235 [==============================] - 0s 1ms/step - loss: 0.3384 - accuracy: 0.8624\n",
      "Epoch 37/100\n",
      "235/235 [==============================] - 0s 1ms/step - loss: 0.3380 - accuracy: 0.8635\n",
      "Epoch 38/100\n",
      "235/235 [==============================] - 0s 1ms/step - loss: 0.3377 - accuracy: 0.8639\n",
      "Epoch 39/100\n",
      "235/235 [==============================] - 0s 1ms/step - loss: 0.3376 - accuracy: 0.8623\n",
      "Epoch 40/100\n",
      "235/235 [==============================] - 0s 1ms/step - loss: 0.3376 - accuracy: 0.8629\n",
      "Epoch 41/100\n",
      "235/235 [==============================] - 0s 1ms/step - loss: 0.3374 - accuracy: 0.8637\n",
      "Epoch 42/100\n",
      "235/235 [==============================] - 0s 1ms/step - loss: 0.3374 - accuracy: 0.8624\n",
      "Epoch 43/100\n",
      "235/235 [==============================] - 0s 1ms/step - loss: 0.3370 - accuracy: 0.8631\n",
      "Epoch 44/100\n",
      "235/235 [==============================] - 0s 1ms/step - loss: 0.3366 - accuracy: 0.8624\n",
      "Epoch 45/100\n",
      "235/235 [==============================] - 0s 1ms/step - loss: 0.3370 - accuracy: 0.8641\n",
      "Epoch 46/100\n",
      "235/235 [==============================] - 0s 1ms/step - loss: 0.3367 - accuracy: 0.8631\n",
      "Epoch 47/100\n",
      "235/235 [==============================] - 0s 1ms/step - loss: 0.3364 - accuracy: 0.8635\n",
      "Epoch 48/100\n",
      "235/235 [==============================] - 0s 1ms/step - loss: 0.3364 - accuracy: 0.8640\n",
      "Epoch 49/100\n",
      "235/235 [==============================] - 0s 1ms/step - loss: 0.3364 - accuracy: 0.8625\n",
      "Epoch 50/100\n",
      "235/235 [==============================] - 0s 1ms/step - loss: 0.3367 - accuracy: 0.8641\n",
      "Epoch 51/100\n",
      "235/235 [==============================] - 0s 1ms/step - loss: 0.3360 - accuracy: 0.8629\n",
      "Epoch 52/100\n",
      "235/235 [==============================] - 0s 1ms/step - loss: 0.3360 - accuracy: 0.8631\n",
      "Epoch 53/100\n",
      "235/235 [==============================] - 0s 1ms/step - loss: 0.3357 - accuracy: 0.8640\n",
      "Epoch 54/100\n",
      "235/235 [==============================] - 0s 1ms/step - loss: 0.3357 - accuracy: 0.8637\n",
      "Epoch 55/100\n",
      "235/235 [==============================] - 0s 1ms/step - loss: 0.3357 - accuracy: 0.8623\n",
      "Epoch 56/100\n",
      "235/235 [==============================] - 0s 1ms/step - loss: 0.3360 - accuracy: 0.8627\n",
      "Epoch 57/100\n",
      "235/235 [==============================] - 0s 1ms/step - loss: 0.3353 - accuracy: 0.8632\n",
      "Epoch 58/100\n",
      "235/235 [==============================] - 0s 1ms/step - loss: 0.3352 - accuracy: 0.8636\n",
      "Epoch 59/100\n",
      "235/235 [==============================] - 0s 1ms/step - loss: 0.3352 - accuracy: 0.8633\n",
      "Epoch 60/100\n",
      "235/235 [==============================] - 0s 1ms/step - loss: 0.3354 - accuracy: 0.8631\n",
      "Epoch 61/100\n",
      "235/235 [==============================] - 0s 1ms/step - loss: 0.3355 - accuracy: 0.8627\n",
      "Epoch 62/100\n",
      "235/235 [==============================] - 0s 1ms/step - loss: 0.3353 - accuracy: 0.8628\n",
      "Epoch 63/100\n",
      "235/235 [==============================] - 0s 1ms/step - loss: 0.3351 - accuracy: 0.8644\n",
      "Epoch 64/100\n",
      "235/235 [==============================] - 0s 1ms/step - loss: 0.3349 - accuracy: 0.8632\n",
      "Epoch 65/100\n",
      "235/235 [==============================] - 0s 1ms/step - loss: 0.3352 - accuracy: 0.8641\n",
      "Epoch 66/100\n",
      "235/235 [==============================] - 0s 1ms/step - loss: 0.3351 - accuracy: 0.8619\n",
      "Epoch 67/100\n",
      "235/235 [==============================] - 0s 1ms/step - loss: 0.3348 - accuracy: 0.8629\n",
      "Epoch 68/100\n",
      "235/235 [==============================] - 0s 1ms/step - loss: 0.3346 - accuracy: 0.8628\n",
      "Epoch 69/100\n",
      "235/235 [==============================] - 0s 1ms/step - loss: 0.3351 - accuracy: 0.8627\n",
      "Epoch 70/100\n",
      "235/235 [==============================] - 0s 1ms/step - loss: 0.3350 - accuracy: 0.8649\n",
      "Epoch 71/100\n",
      "235/235 [==============================] - 0s 1ms/step - loss: 0.3348 - accuracy: 0.8643\n",
      "Epoch 72/100\n",
      "235/235 [==============================] - 0s 1ms/step - loss: 0.3347 - accuracy: 0.8641\n",
      "Epoch 73/100\n",
      "235/235 [==============================] - 0s 1ms/step - loss: 0.3343 - accuracy: 0.8632\n",
      "Epoch 74/100\n",
      "235/235 [==============================] - 0s 1ms/step - loss: 0.3347 - accuracy: 0.8635\n",
      "Epoch 75/100\n",
      "235/235 [==============================] - 0s 1ms/step - loss: 0.3344 - accuracy: 0.8632\n",
      "Epoch 76/100\n",
      "235/235 [==============================] - 0s 1ms/step - loss: 0.3345 - accuracy: 0.8628\n",
      "Epoch 77/100\n",
      "235/235 [==============================] - 0s 1ms/step - loss: 0.3348 - accuracy: 0.8617\n",
      "Epoch 78/100\n",
      "235/235 [==============================] - 0s 1ms/step - loss: 0.3344 - accuracy: 0.8624\n",
      "Epoch 79/100\n",
      "235/235 [==============================] - 0s 1ms/step - loss: 0.3347 - accuracy: 0.8649\n",
      "Epoch 80/100\n",
      "235/235 [==============================] - 0s 1ms/step - loss: 0.3343 - accuracy: 0.8637\n",
      "Epoch 81/100\n"
     ]
    },
    {
     "name": "stdout",
     "output_type": "stream",
     "text": [
      "235/235 [==============================] - 0s 1ms/step - loss: 0.3342 - accuracy: 0.8639\n",
      "Epoch 82/100\n",
      "235/235 [==============================] - 0s 1ms/step - loss: 0.3347 - accuracy: 0.8635\n",
      "Epoch 83/100\n",
      "235/235 [==============================] - 0s 1ms/step - loss: 0.3339 - accuracy: 0.8627\n",
      "Epoch 84/100\n",
      "235/235 [==============================] - 0s 1ms/step - loss: 0.3345 - accuracy: 0.8636\n",
      "Epoch 85/100\n",
      "235/235 [==============================] - 0s 1ms/step - loss: 0.3345 - accuracy: 0.8633\n",
      "Epoch 86/100\n",
      "235/235 [==============================] - 0s 1ms/step - loss: 0.3341 - accuracy: 0.8627\n",
      "Epoch 87/100\n",
      "235/235 [==============================] - 0s 1ms/step - loss: 0.3344 - accuracy: 0.8612\n",
      "Epoch 88/100\n",
      "235/235 [==============================] - 0s 1ms/step - loss: 0.3343 - accuracy: 0.8628\n",
      "Epoch 89/100\n",
      "235/235 [==============================] - 0s 1ms/step - loss: 0.3340 - accuracy: 0.8625\n",
      "Epoch 90/100\n",
      "235/235 [==============================] - 0s 1ms/step - loss: 0.3338 - accuracy: 0.8628\n",
      "Epoch 91/100\n",
      "235/235 [==============================] - 0s 1ms/step - loss: 0.3341 - accuracy: 0.8620\n",
      "Epoch 92/100\n",
      "235/235 [==============================] - 0s 1ms/step - loss: 0.3340 - accuracy: 0.8636\n",
      "Epoch 93/100\n",
      "235/235 [==============================] - 0s 1ms/step - loss: 0.3347 - accuracy: 0.8631\n",
      "Epoch 94/100\n",
      "235/235 [==============================] - 0s 1ms/step - loss: 0.3339 - accuracy: 0.8655\n",
      "Epoch 95/100\n",
      "235/235 [==============================] - 0s 1ms/step - loss: 0.3341 - accuracy: 0.8620\n",
      "Epoch 96/100\n",
      "235/235 [==============================] - 0s 1ms/step - loss: 0.3342 - accuracy: 0.8625\n",
      "Epoch 97/100\n",
      "235/235 [==============================] - 0s 1ms/step - loss: 0.3342 - accuracy: 0.8639\n",
      "Epoch 98/100\n",
      "235/235 [==============================] - 0s 1ms/step - loss: 0.3339 - accuracy: 0.8635\n",
      "Epoch 99/100\n",
      "235/235 [==============================] - 0s 1ms/step - loss: 0.3339 - accuracy: 0.8637\n",
      "Epoch 100/100\n",
      "235/235 [==============================] - 0s 1ms/step - loss: 0.3337 - accuracy: 0.8636\n"
     ]
    },
    {
     "data": {
      "text/plain": [
       "<tensorflow.python.keras.callbacks.History at 0x21df33af2e0>"
      ]
     },
     "execution_count": 10,
     "metadata": {},
     "output_type": "execute_result"
    }
   ],
   "source": [
    "ann.fit(x_train, y_train, batch_size=32, epochs=100)"
   ]
  },
  {
   "cell_type": "markdown",
   "metadata": {},
   "source": [
    "## Making predictions and evaluating the model\n",
    "**A. Predict result of a single observation**\n",
    "1. Credit score = 600\n",
    "2. Geography = France (`100`)\n",
    "3. Gender = male (`01`)\n",
    "4. Age = 40\n",
    "5. Tenure = 3\n",
    "6. Balance = 60000\n",
    "7. Number of products = 2\n",
    "8. Credit card = Yes\n",
    "9. Active member = Yes\n",
    "10. Estimated salary = 50000"
   ]
  },
  {
   "cell_type": "code",
   "execution_count": 11,
   "metadata": {},
   "outputs": [
    {
     "name": "stdout",
     "output_type": "stream",
     "text": [
      "[[ True]]\n"
     ]
    }
   ],
   "source": [
    "sample_prediction = ann.predict(np.array([[600, 40, 3, 60000, 2, 1, 1, 50000, 1, 0, 0, 0, 1]]))\n",
    "sample_prediction = (sample_prediction > 0.5)\n",
    "print(sample_prediction)"
   ]
  },
  {
   "cell_type": "markdown",
   "metadata": {},
   "source": [
    "**B. Predict the test set results**"
   ]
  },
  {
   "cell_type": "code",
   "execution_count": 12,
   "metadata": {},
   "outputs": [],
   "source": [
    "y_pred = ann.predict(x_test)\n",
    "y_pred = (y_pred > 0.5)"
   ]
  },
  {
   "cell_type": "markdown",
   "metadata": {},
   "source": [
    "**C. Print the confusion matrix**"
   ]
  },
  {
   "cell_type": "code",
   "execution_count": 13,
   "metadata": {},
   "outputs": [
    {
     "name": "stdout",
     "output_type": "stream",
     "text": [
      "[[1870  121]\n",
      " [ 235  274]]\n"
     ]
    }
   ],
   "source": [
    "from sklearn.metrics import confusion_matrix\n",
    "cm = confusion_matrix(y_test, y_pred)\n",
    "print(cm)"
   ]
  },
  {
   "cell_type": "markdown",
   "metadata": {},
   "source": [
    "## Extra Credit\n",
    "**A. Run the ANN model on a range of input parameters to show some exits and some non-exits from the bank**"
   ]
  },
  {
   "cell_type": "code",
   "execution_count": 14,
   "metadata": {},
   "outputs": [
    {
     "name": "stdout",
     "output_type": "stream",
     "text": [
      "[[ True]]\n"
     ]
    }
   ],
   "source": [
    "# credit score = 619\n",
    "# age = 43\n",
    "# tenure = 1\n",
    "# balance = 125200\n",
    "# products = 1\n",
    "# credit cards = 1\n",
    "# active = yes\n",
    "# salary = 11200\n",
    "# geography = france (100)\n",
    "# gender = male (01)\n",
    "\n",
    "sample = ann.predict(np.array([[619, 43, 1, 125200, 1, 1, 1, 112000, 1, 0, 0, 0, 1]]))\n",
    "sample = (sample > 0.5)\n",
    "print(sample)"
   ]
  },
  {
   "cell_type": "code",
   "execution_count": 15,
   "metadata": {},
   "outputs": [
    {
     "name": "stdout",
     "output_type": "stream",
     "text": [
      "[[False]]\n"
     ]
    }
   ],
   "source": [
    "# credit score = 866\n",
    "# age = 40\n",
    "# tenure = 3\n",
    "# balance = 0\n",
    "# products = 3\n",
    "# credit cards = 1\n",
    "# active = yes\n",
    "# salary = 104923\n",
    "# geography = spain (001)\n",
    "# gender = female (10)\n",
    "\n",
    "sample = ann.predict(np.array([[866, 40, 3, 0, 3, 1, 1, 104923, 0, 0, 1, 1, 0]]))\n",
    "sample = (sample > 0.5)\n",
    "print(sample)"
   ]
  },
  {
   "cell_type": "code",
   "execution_count": 16,
   "metadata": {},
   "outputs": [
    {
     "name": "stdout",
     "output_type": "stream",
     "text": [
      "[[ True]]\n"
     ]
    }
   ],
   "source": [
    "# credit score = 470\n",
    "# age = 89\n",
    "# tenure = 0\n",
    "# balance = 140838\n",
    "# products = 1\n",
    "# credit cards = 1\n",
    "# active = 0\n",
    "# salary = 28358\n",
    "# geography = spain (001)\n",
    "# gender = female (10)\n",
    "\n",
    "sample = ann.predict(np.array([[470, 89, 0, 140838, 1, 1, 0, 28358, 1, 0, 0, 1, 0]]))\n",
    "sample = (sample > 0.5)\n",
    "print(sample)"
   ]
  },
  {
   "cell_type": "code",
   "execution_count": 17,
   "metadata": {},
   "outputs": [
    {
     "name": "stdout",
     "output_type": "stream",
     "text": [
      "[[ True]]\n"
     ]
    }
   ],
   "source": [
    "# credit score = 470\n",
    "# age = 36\n",
    "# tenure = 4\n",
    "# balance = 138003\n",
    "# products = 1\n",
    "# credit cards = 1\n",
    "# active = 1\n",
    "# salary = 48023\n",
    "# geography = germany (010)\n",
    "# gender = male (01)\n",
    "\n",
    "sample = ann.predict(np.array([[470, 36, 4, 138003, 1, 1, 1, 48023, 0, 1, 0, 0, 1]]))\n",
    "sample = (sample > 0.5)\n",
    "print(sample)"
   ]
  },
  {
   "cell_type": "code",
   "execution_count": 18,
   "metadata": {},
   "outputs": [
    {
     "name": "stdout",
     "output_type": "stream",
     "text": [
      "[[ True]]\n"
     ]
    }
   ],
   "source": [
    "# credit score = 538\n",
    "# age = 56\n",
    "# tenure = 2\n",
    "# balance = 86533\n",
    "# products = 6\n",
    "# credit cards = 1\n",
    "# active = 0\n",
    "# salary = 25821\n",
    "# geography = germany (010)\n",
    "# gender = female (10)\n",
    "\n",
    "sample = ann.predict(np.array([[538, 56, 2, 86533, 6, 1, 0, 25821, 0, 1, 0, 1, 0]]))\n",
    "sample = (sample > 0.5)\n",
    "print(sample)"
   ]
  },
  {
   "cell_type": "code",
   "execution_count": 19,
   "metadata": {},
   "outputs": [
    {
     "name": "stdout",
     "output_type": "stream",
     "text": [
      "[[ True]]\n"
     ]
    }
   ],
   "source": [
    "# credit score = 577\n",
    "# age = 33\n",
    "# tenure = 1\n",
    "# balance = 39583\n",
    "# products = 0\n",
    "# credit cards = 1\n",
    "# active = 0\n",
    "# salary = 10354\n",
    "# geography = france (100)\n",
    "# gender = female (10)\n",
    "\n",
    "sample = ann.predict(np.array([[577, 33, 1, 39583, 0, 1, 0, 10354, 1, 0, 0, 1, 0]]))\n",
    "sample = (sample > 0.5)\n",
    "print(sample)"
   ]
  },
  {
   "cell_type": "code",
   "execution_count": 20,
   "metadata": {},
   "outputs": [
    {
     "name": "stdout",
     "output_type": "stream",
     "text": [
      "[[False]]\n"
     ]
    }
   ],
   "source": [
    "# credit score = 328\n",
    "# age = 39\n",
    "# tenure = 0\n",
    "# balance = 1295485\n",
    "# products = 3\n",
    "# credit cards = 2\n",
    "# active = yes\n",
    "# salary = 1954983\n",
    "# geography = france (100)\n",
    "# gender = female (10)\n",
    "\n",
    "sample = ann.predict(np.array([[812, 59, 0, 14822, 4, 1, 1, 185835, 1, 0, 0, 1, 0]]))\n",
    "sample = (sample > 0.5)\n",
    "print(sample)"
   ]
  },
  {
   "cell_type": "markdown",
   "metadata": {},
   "source": [
    "**B. Any insight based on the model that you can provide the bank to reduce churn (customers leaving the bank)**\n",
    "\n",
    "It seems like balance is a clear indicator of whether they will churn or not. If balance is close to 0, they are more likely to leave and if they have a high balance, they will not. Variables like gender and age don't appear to have a significant affect on the output judging from the samples above. "
   ]
  },
  {
   "cell_type": "code",
   "execution_count": null,
   "metadata": {},
   "outputs": [],
   "source": []
  }
 ],
 "metadata": {
  "kernelspec": {
   "display_name": "Python 3",
   "language": "python",
   "name": "python3"
  },
  "language_info": {
   "codemirror_mode": {
    "name": "ipython",
    "version": 3
   },
   "file_extension": ".py",
   "mimetype": "text/x-python",
   "name": "python",
   "nbconvert_exporter": "python",
   "pygments_lexer": "ipython3",
   "version": "3.8.3"
  }
 },
 "nbformat": 4,
 "nbformat_minor": 4
}
