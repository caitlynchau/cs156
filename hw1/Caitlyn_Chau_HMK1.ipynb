{
 "cells": [
  {
   "cell_type": "markdown",
   "metadata": {},
   "source": [
    "### Read data from CSV file"
   ]
  },
  {
   "cell_type": "code",
   "execution_count": 4,
   "metadata": {},
   "outputs": [],
   "source": [
    "import numpy as np\n",
    "import pandas as pd\n",
    "dataset = pd.read_csv('C:\\\\Users\\\\14087\\\\OneDrive\\\\Desktop\\\\School\\\\Fall 2020\\\\CS 156\\\\Data-hw1.csv')\n",
    "x = dataset.iloc[:, :-1].values\n",
    "y = dataset.iloc[:, 3:4].values"
   ]
  },
  {
   "cell_type": "markdown",
   "metadata": {},
   "source": [
    "### Eliminate missing data"
   ]
  },
  {
   "cell_type": "code",
   "execution_count": 6,
   "metadata": {},
   "outputs": [
    {
     "name": "stdout",
     "output_type": "stream",
     "text": [
      "[['France' 44.0 1.1]\n",
      " ['Spain' 27.0 1.3]\n",
      " ['Germany' 30.0 1.5]\n",
      " ['Spain' 38.0 2.0]\n",
      " ['Germany' 40.0 2.2]\n",
      " ['France' 35.0 2.9]\n",
      " ['Spain' 38.77777777777778 3.0]\n",
      " ['France' 48.0 3.2]\n",
      " ['Germany' 50.0 5.364285714285715]\n",
      " ['France' 37.0 3.7]\n",
      " ['France' 44.0 3.9]\n",
      " ['Spain' 27.0 4.0]\n",
      " ['Germany' 30.0 4.0]\n",
      " ['Spain' 38.0 4.1]\n",
      " ['Germany' 40.0 4.5]\n",
      " ['France' 35.0 4.9]\n",
      " ['Spain' 38.77777777777778 5.1]\n",
      " ['France' 48.0 5.3]\n",
      " ['Germany' 50.0 5.9]\n",
      " ['France' 37.0 5.364285714285715]\n",
      " ['France' 44.0 6.8]\n",
      " ['Spain' 27.0 7.1]\n",
      " ['Germany' 30.0 7.9]\n",
      " ['Spain' 38.0 8.2]\n",
      " ['Germany' 40.0 8.7]\n",
      " ['France' 35.0 9.0]\n",
      " ['Spain' 38.77777777777778 9.5]\n",
      " ['France' 48.0 9.6]\n",
      " ['Germany' 50.0 10.3]\n",
      " ['France' 37.0 10.5]]\n",
      "[[ 39343.        ]\n",
      " [ 46205.        ]\n",
      " [ 37731.        ]\n",
      " [ 43525.        ]\n",
      " [ 39891.        ]\n",
      " [ 56642.        ]\n",
      " [ 60150.        ]\n",
      " [ 54445.        ]\n",
      " [ 64445.        ]\n",
      " [ 57189.        ]\n",
      " [ 63218.        ]\n",
      " [ 76533.32142857]\n",
      " [ 56957.        ]\n",
      " [ 57081.        ]\n",
      " [ 61111.        ]\n",
      " [ 67938.        ]\n",
      " [ 66029.        ]\n",
      " [ 83088.        ]\n",
      " [ 76533.32142857]\n",
      " [ 93940.        ]\n",
      " [ 91738.        ]\n",
      " [ 98273.        ]\n",
      " [101302.        ]\n",
      " [113812.        ]\n",
      " [109431.        ]\n",
      " [105582.        ]\n",
      " [116969.        ]\n",
      " [112635.        ]\n",
      " [122391.        ]\n",
      " [121872.        ]]\n"
     ]
    }
   ],
   "source": [
    "from sklearn.impute import SimpleImputer\n",
    "\n",
    "imputer = SimpleImputer(missing_values=np.nan, strategy='mean')\n",
    "imputer.fit(x[:, 1:3])\n",
    "x[:, 1:3] = imputer.transform(x[:, 1:3])\n",
    "\n",
    "imputer.fit(y[:])\n",
    "y[:] = imputer.transform(y[:])\n",
    "\n",
    "print(x)\n",
    "print(y)"
   ]
  },
  {
   "cell_type": "markdown",
   "metadata": {},
   "source": [
    "### Take care of categorical data"
   ]
  },
  {
   "cell_type": "code",
   "execution_count": 9,
   "metadata": {},
   "outputs": [
    {
     "name": "stdout",
     "output_type": "stream",
     "text": [
      "[[0.0 1.0 0.0 0.0 44.0 1.1]\n",
      " [1.0 0.0 0.0 1.0 27.0 1.3]\n",
      " [1.0 0.0 1.0 0.0 30.0 1.5]\n",
      " [1.0 0.0 0.0 1.0 38.0 2.0]\n",
      " [1.0 0.0 1.0 0.0 40.0 2.2]\n",
      " [0.0 1.0 0.0 0.0 35.0 2.9]\n",
      " [1.0 0.0 0.0 1.0 38.77777777777778 3.0]\n",
      " [0.0 1.0 0.0 0.0 48.0 3.2]\n",
      " [1.0 0.0 1.0 0.0 50.0 5.364285714285715]\n",
      " [0.0 1.0 0.0 0.0 37.0 3.7]\n",
      " [0.0 1.0 0.0 0.0 44.0 3.9]\n",
      " [1.0 0.0 0.0 1.0 27.0 4.0]\n",
      " [1.0 0.0 1.0 0.0 30.0 4.0]\n",
      " [1.0 0.0 0.0 1.0 38.0 4.1]\n",
      " [1.0 0.0 1.0 0.0 40.0 4.5]\n",
      " [0.0 1.0 0.0 0.0 35.0 4.9]\n",
      " [1.0 0.0 0.0 1.0 38.77777777777778 5.1]\n",
      " [0.0 1.0 0.0 0.0 48.0 5.3]\n",
      " [1.0 0.0 1.0 0.0 50.0 5.9]\n",
      " [0.0 1.0 0.0 0.0 37.0 5.364285714285715]\n",
      " [0.0 1.0 0.0 0.0 44.0 6.8]\n",
      " [1.0 0.0 0.0 1.0 27.0 7.1]\n",
      " [1.0 0.0 1.0 0.0 30.0 7.9]\n",
      " [1.0 0.0 0.0 1.0 38.0 8.2]\n",
      " [1.0 0.0 1.0 0.0 40.0 8.7]\n",
      " [0.0 1.0 0.0 0.0 35.0 9.0]\n",
      " [1.0 0.0 0.0 1.0 38.77777777777778 9.5]\n",
      " [0.0 1.0 0.0 0.0 48.0 9.6]\n",
      " [1.0 0.0 1.0 0.0 50.0 10.3]\n",
      " [0.0 1.0 0.0 0.0 37.0 10.5]]\n"
     ]
    }
   ],
   "source": [
    "from sklearn.compose import ColumnTransformer\n",
    "from sklearn.preprocessing import OneHotEncoder\n",
    "\n",
    "ct = ColumnTransformer(transformers=[('encoder', OneHotEncoder(), [0])], remainder='passthrough')\n",
    "x = np.array(ct.fit_transform(x))\n",
    "\n",
    "print(x)"
   ]
  },
  {
   "cell_type": "markdown",
   "metadata": {},
   "source": [
    "### Break dataset into Training set and Test set\n",
    "Independent variable x: YearsExperience\n",
    "\n",
    "Dependent variable y: Salary"
   ]
  },
  {
   "cell_type": "code",
   "execution_count": 10,
   "metadata": {},
   "outputs": [],
   "source": [
    "from sklearn.model_selection import train_test_split\n",
    "x_train, x_test, y_train, y_test = train_test_split(x[:, -1:], y, test_size=1/3, random_state=1)"
   ]
  },
  {
   "cell_type": "code",
   "execution_count": 11,
   "metadata": {},
   "outputs": [
    {
     "name": "stdout",
     "output_type": "stream",
     "text": [
      "[[8.2]\n",
      " [2.2]\n",
      " [1.5]\n",
      " [9.0]\n",
      " [3.0]\n",
      " [5.9]\n",
      " [4.1]\n",
      " [3.2]\n",
      " [9.6]\n",
      " [1.3]\n",
      " [5.1]\n",
      " [1.1]\n",
      " [4.9]\n",
      " [10.5]\n",
      " [10.3]\n",
      " [3.7]\n",
      " [5.364285714285715]\n",
      " [4.0]\n",
      " [4.0]\n",
      " [2.9]]\n"
     ]
    }
   ],
   "source": [
    "print(x_train)"
   ]
  },
  {
   "cell_type": "code",
   "execution_count": 12,
   "metadata": {},
   "outputs": [
    {
     "name": "stdout",
     "output_type": "stream",
     "text": [
      "[[5.3]\n",
      " [7.1]\n",
      " [3.9]\n",
      " [5.364285714285715]\n",
      " [4.5]\n",
      " [6.8]\n",
      " [9.5]\n",
      " [2.0]\n",
      " [8.7]\n",
      " [7.9]]\n"
     ]
    }
   ],
   "source": [
    "print(x_test)"
   ]
  },
  {
   "cell_type": "code",
   "execution_count": 13,
   "metadata": {},
   "outputs": [
    {
     "name": "stdout",
     "output_type": "stream",
     "text": [
      "[[113812.        ]\n",
      " [ 39891.        ]\n",
      " [ 37731.        ]\n",
      " [105582.        ]\n",
      " [ 60150.        ]\n",
      " [ 76533.32142857]\n",
      " [ 57081.        ]\n",
      " [ 54445.        ]\n",
      " [112635.        ]\n",
      " [ 46205.        ]\n",
      " [ 66029.        ]\n",
      " [ 39343.        ]\n",
      " [ 67938.        ]\n",
      " [121872.        ]\n",
      " [122391.        ]\n",
      " [ 57189.        ]\n",
      " [ 64445.        ]\n",
      " [ 56957.        ]\n",
      " [ 76533.32142857]\n",
      " [ 56642.        ]]\n"
     ]
    }
   ],
   "source": [
    "print(y_train)"
   ]
  },
  {
   "cell_type": "code",
   "execution_count": 14,
   "metadata": {},
   "outputs": [
    {
     "name": "stdout",
     "output_type": "stream",
     "text": [
      "[[ 83088.]\n",
      " [ 98273.]\n",
      " [ 63218.]\n",
      " [ 93940.]\n",
      " [ 61111.]\n",
      " [ 91738.]\n",
      " [116969.]\n",
      " [ 43525.]\n",
      " [109431.]\n",
      " [101302.]]\n"
     ]
    }
   ],
   "source": [
    "print(y_test)"
   ]
  },
  {
   "cell_type": "markdown",
   "metadata": {},
   "source": [
    "### Train simple regression model on training set"
   ]
  },
  {
   "cell_type": "code",
   "execution_count": 15,
   "metadata": {},
   "outputs": [
    {
     "data": {
      "text/plain": [
       "LinearRegression()"
      ]
     },
     "execution_count": 15,
     "metadata": {},
     "output_type": "execute_result"
    }
   ],
   "source": [
    "from sklearn.linear_model import LinearRegression\n",
    "regressor = LinearRegression()\n",
    "regressor.fit(x_train, y_train)\n",
    "LinearRegression(copy_X=True, fit_intercept=True, n_jobs=None, normalize=False)"
   ]
  },
  {
   "cell_type": "markdown",
   "metadata": {},
   "source": [
    "### Predict test set results"
   ]
  },
  {
   "cell_type": "code",
   "execution_count": 16,
   "metadata": {},
   "outputs": [
    {
     "name": "stdout",
     "output_type": "stream",
     "text": [
      "[[ 74456.8762566 ]\n",
      " [ 90806.91855375]\n",
      " [ 61740.17669215]\n",
      " [ 75040.80633864]\n",
      " [ 67190.1907912 ]\n",
      " [ 88081.91150423]\n",
      " [112606.97494996]\n",
      " [ 44481.79871182]\n",
      " [105340.28948456]\n",
      " [ 98073.60401915]]\n"
     ]
    }
   ],
   "source": [
    "y_pred = regressor.predict(x_test)\n",
    "print(y_pred)"
   ]
  },
  {
   "cell_type": "code",
   "execution_count": 17,
   "metadata": {},
   "outputs": [
    {
     "name": "stdout",
     "output_type": "stream",
     "text": [
      "[[54473.49122674]]\n",
      "[[89898.58287058]]\n"
     ]
    }
   ],
   "source": [
    "# Predict salary for YearsExperience = 3.1\n",
    "print(regressor.predict([[3.1]]))\n",
    "# Predict salary for YearsExperience = 7.0\n",
    "print(regressor.predict([[7.0]]))"
   ]
  },
  {
   "cell_type": "markdown",
   "metadata": {},
   "source": [
    "### Visualize training dataset and linear regression fit"
   ]
  },
  {
   "cell_type": "code",
   "execution_count": 18,
   "metadata": {},
   "outputs": [
    {
     "data": {
      "image/png": "[encoded data removed]",
      "text/plain": [
       "<Figure size 432x288 with 1 Axes>"
      ]
     },
     "metadata": {
      "needs_background": "light"
     },
     "output_type": "display_data"
    }
   ],
   "source": [
    "import matplotlib.pyplot as plt\n",
    "\n",
    "plt.scatter(x_train, y_train, color='red')\n",
    "plt.plot(x_train, regressor.predict(x_train), color='blue')\n",
    "plt.title('Years Experience vs. Salary (Training Set)')\n",
    "plt.xlabel('Years of Experience')\n",
    "plt.ylabel('Salary')\n",
    "plt.show()\n"
   ]
  },
  {
   "cell_type": "markdown",
   "metadata": {},
   "source": [
    "### Visualize test dataset and linear regression fit"
   ]
  },
  {
   "cell_type": "code",
   "execution_count": 19,
   "metadata": {},
   "outputs": [
    {
     "data": {
      "image/png": "[encoded data removed]",
      "text/plain": [
       "<Figure size 432x288 with 1 Axes>"
      ]
     },
     "metadata": {
      "needs_background": "light"
     },
     "output_type": "display_data"
    }
   ],
   "source": [
    "plt.scatter(x_test, y_test, color='red')\n",
    "plt.plot(x_train, regressor.predict(x_train), color='blue')\n",
    "plt.title('Years Experience vs. Salary (Test Set)')\n",
    "plt.xlabel('Years of Experience')\n",
    "plt.ylabel('Salary')\n",
    "plt.show()"
   ]
  },
  {
   "cell_type": "code",
   "execution_count": null,
   "metadata": {},
   "outputs": [],
   "source": []
  }
 ],
 "metadata": {
  "kernelspec": {
   "display_name": "Python 3",
   "language": "python",
   "name": "python3"
  },
  "language_info": {
   "codemirror_mode": {
    "name": "ipython",
    "version": 3
   },
   "file_extension": ".py",
   "mimetype": "text/x-python",
   "name": "python",
   "nbconvert_exporter": "python",
   "pygments_lexer": "ipython3",
   "version": "3.8.3"
  }
 },
 "nbformat": 4,
 "nbformat_minor": 4
}
